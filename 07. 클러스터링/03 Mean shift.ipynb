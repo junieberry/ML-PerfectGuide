{
  "nbformat": 4,
  "nbformat_minor": 0,
  "metadata": {
    "colab": {
      "name": "03 Mean shift.ipynb",
      "provenance": [],
      "authorship_tag": "ABX9TyM5JH3xS7ZyhWtbWpF/8jXE",
      "include_colab_link": true
    },
    "kernelspec": {
      "name": "python3",
      "display_name": "Python 3"
    },
    "language_info": {
      "name": "python"
    }
  },
  "cells": [
    {
      "cell_type": "markdown",
      "metadata": {
        "id": "view-in-github",
        "colab_type": "text"
      },
      "source": [
        "<a href=\"https://colab.research.google.com/github/junieberry/ML-PerfectGuide/blob/main/07.%20%ED%81%B4%EB%9F%AC%EC%8A%A4%ED%84%B0%EB%A7%81/03%20Mean%20shift.ipynb\" target=\"_parent\"><img src=\"https://colab.research.google.com/assets/colab-badge.svg\" alt=\"Open In Colab\"/></a>"
      ]
    },
    {
      "cell_type": "markdown",
      "source": [
        "## Mean Shift\n",
        "- Kmean과 비슷하게 중심을 이동하면서 군집화\n",
        "- Kmean은 중심에 소속된 데이터의 평균 거리 중심으로 이동\n",
        "- Mean Shift는 데이터가 모여 있는 밀도가 가장 높은 곳으로 이동\n",
        "- 데이터 분포 확률 밀도가 가장 높은 곳으로 이동\n",
        "- KDE(kernel density estimation)사용\n",
        "\n",
        "---\n",
        "1. 관측된 데이터에 커널 함수 적용하고 평균 내서 확률 밀도 함수 추정\n",
        "2. 확률 밀도 함수 PDF는 확률 변수의 분포를 나타내는 분포\n",
        "    <img src=\"https://1911395421-files.gitbook.io/~/files/v0/b/gitbook-legacy-files/o/assets%2F-LxaqUhwPNPE0iJCKfjJ%2F-MZY4Pj4jh3vqBHJ4maw%2F-MZY8aRVrzN-g-i-W2pF%2Fimage.png?alt=media&token=92f70b1c-99d6-40e8-a6dc-e5f2a03c2dcf\" width=70%>\n",
        "3. h를 사용해서 KDE 상태 조절\n",
        "    - h가 작으면 좁고 뾰족한 KDE로 overfitting\n",
        "    - h가 크면 평탄한 KDE로 underfitting\n",
        "4. 클러스터링 개수 말고 bandwidth로 설정\n",
        "\n",
        "---\n",
        "\n",
        "- 데이터 셋이나 모델 형태를 가정하지 않아 유연한 군집화 가능\n",
        "- 이상치의 영향이 크기 않음\n",
        "- 군집의 개수를 정할 필요가 없음\n",
        "- 알고리즘 수행 시간이 오래 걸림\n",
        "- bandwidth 크기에 따른 군집화 영향도가 큼"
      ],
      "metadata": {
        "id": "8SB2mHbzvQJa"
      }
    },
    {
      "cell_type": "code",
      "execution_count": 1,
      "metadata": {
        "id": "3qiTkTjvuczK"
      },
      "outputs": [],
      "source": [
        "## 데이터 생성\n",
        "import numpy as np\n",
        "from sklearn.datasets import make_blobs\n",
        "from sklearn.cluster import MeanShift\n",
        "\n",
        "x, y = make_blobs(n_samples=200, n_features=2, centers=3, \n",
        "                  cluster_std=0.8, random_state=0)"
      ]
    },
    {
      "cell_type": "code",
      "source": [
        "## bandwidth 0.9\n",
        "meanshift= MeanShift(bandwidth=0.9)\n",
        "cluster_labels = meanshift.fit_predict(x)\n",
        "print('cluster labels 유형:', np.unique(cluster_labels))"
      ],
      "metadata": {
        "colab": {
          "base_uri": "https://localhost:8080/"
        },
        "id": "hBywVn6K6m4C",
        "outputId": "59bb2fd5-2d4e-4f79-e3a7-65d8a0761b36"
      },
      "execution_count": 2,
      "outputs": [
        {
          "output_type": "stream",
          "name": "stdout",
          "text": [
            "cluster labels 유형: [0 1 2 3 4 5 6 7]\n"
          ]
        }
      ]
    },
    {
      "cell_type": "code",
      "source": [
        "## bandwidth 1\n",
        "meanshift= MeanShift(bandwidth=1)\n",
        "cluster_labels = meanshift.fit_predict(x)\n",
        "print('cluster labels 유형:', np.unique(cluster_labels))"
      ],
      "metadata": {
        "colab": {
          "base_uri": "https://localhost:8080/"
        },
        "id": "Tzxo2VFd6rHV",
        "outputId": "69b04d7c-c8db-47c8-a187-43b3c2d09c5b"
      },
      "execution_count": 4,
      "outputs": [
        {
          "output_type": "stream",
          "name": "stdout",
          "text": [
            "cluster labels 유형: [0 1 2]\n"
          ]
        }
      ]
    },
    {
      "cell_type": "markdown",
      "source": [
        "**bandwidth 최적화**"
      ],
      "metadata": {
        "id": "LNfnQmpr60J9"
      }
    },
    {
      "cell_type": "code",
      "source": [
        "from sklearn.cluster import estimate_bandwidth\n",
        "\n",
        "bandwidth = estimate_bandwidth(x)\n",
        "print('bandwidth 값:', round(bandwidth,3))"
      ],
      "metadata": {
        "colab": {
          "base_uri": "https://localhost:8080/"
        },
        "id": "KFr6kENb64-f",
        "outputId": "dd8d0546-cfcb-4c2e-d4ab-17bc43af2661"
      },
      "execution_count": 6,
      "outputs": [
        {
          "output_type": "stream",
          "name": "stdout",
          "text": [
            "bandwidth 값: 2.002\n"
          ]
        }
      ]
    },
    {
      "cell_type": "code",
      "source": [
        "## bandwidth 2.002\n",
        "meanshift= MeanShift(bandwidth=2.002)\n",
        "cluster_labels = meanshift.fit_predict(x)\n",
        "print('cluster labels 유형:', np.unique(cluster_labels))"
      ],
      "metadata": {
        "colab": {
          "base_uri": "https://localhost:8080/"
        },
        "id": "kXbewvEZ7DqD",
        "outputId": "338347aa-7394-43ed-ae80-6586e35bf2cf"
      },
      "execution_count": 7,
      "outputs": [
        {
          "output_type": "stream",
          "name": "stdout",
          "text": [
            "cluster labels 유형: [0 1]\n"
          ]
        }
      ]
    },
    {
      "cell_type": "code",
      "source": [
        "import pandas as pd\n",
        "\n",
        "\n",
        "clusterDF = pd.DataFrame(data=x, columns=['ftr1', 'ftr2'])\n",
        "clusterDF['target'] = y\n",
        "\n",
        "best_bandwidth = estimate_bandwidth(x)\n",
        "\n",
        "meanshift= MeanShift(bandwidth=best_bandwidth)\n",
        "cluster_labels = meanshift.fit_predict(x)\n",
        "print('cluster labels 유형:',np.unique(cluster_labels))    "
      ],
      "metadata": {
        "colab": {
          "base_uri": "https://localhost:8080/"
        },
        "id": "_pV5KFmc7Fye",
        "outputId": "f8d591ad-37e8-4814-957b-e373d3658519"
      },
      "execution_count": 9,
      "outputs": [
        {
          "output_type": "stream",
          "name": "stdout",
          "text": [
            "cluster labels 유형: [0 1]\n"
          ]
        }
      ]
    },
    {
      "cell_type": "code",
      "source": [
        "import matplotlib.pyplot as plt\n",
        "%matplotlib inline\n",
        "\n",
        "clusterDF['meanshift_label']  = cluster_labels\n",
        "centers = meanshift.cluster_centers_\n",
        "unique_labels = np.unique(cluster_labels)\n",
        "markers=['o', 's', '^', 'x', '*']\n",
        "\n",
        "for label in unique_labels:\n",
        "    label_cluster = clusterDF[clusterDF['meanshift_label']==label]\n",
        "    center_x_y = centers[label]\n",
        "    \n",
        "    plt.scatter(x=label_cluster['ftr1'], y=label_cluster['ftr2'], edgecolor='k', \n",
        "                marker=markers[label] )\n",
        "    \n",
        "    # 군집별 중심 시각화\n",
        "    plt.scatter(x=center_x_y[0], y=center_x_y[1], s=200, color='white',\n",
        "                edgecolor='k', alpha=0.9, marker=markers[label])\n",
        "    plt.scatter(x=center_x_y[0], y=center_x_y[1], s=70, color='k', edgecolor='k', \n",
        "                marker='$%d$' % label)\n",
        "    \n",
        "plt.show()"
      ],
      "metadata": {
        "colab": {
          "base_uri": "https://localhost:8080/",
          "height": 265
        },
        "id": "pjE6KUIV7ufw",
        "outputId": "8ee183dc-ad95-4783-ba6a-262c507955de"
      },
      "execution_count": 11,
      "outputs": [
        {
          "output_type": "display_data",
          "data": {
            "text/plain": [
              "<Figure size 432x288 with 1 Axes>"
            ],
            "image/png": "[encoded data removed]"
          },
          "metadata": {
            "needs_background": "light"
          }
        }
      ]
    },
    {
      "cell_type": "code",
      "source": [
        "print(clusterDF.groupby('target')['meanshift_label'].value_counts())"
      ],
      "metadata": {
        "colab": {
          "base_uri": "https://localhost:8080/"
        },
        "id": "wnN6UzX98Oay",
        "outputId": "00e26ac7-ed3e-429a-9623-c4f88a066b21"
      },
      "execution_count": 12,
      "outputs": [
        {
          "output_type": "stream",
          "name": "stdout",
          "text": [
            "target  meanshift_label\n",
            "0       0                  65\n",
            "        1                   2\n",
            "1       1                  67\n",
            "2       0                  66\n",
            "Name: meanshift_label, dtype: int64\n"
          ]
        }
      ]
    }
  ]
}