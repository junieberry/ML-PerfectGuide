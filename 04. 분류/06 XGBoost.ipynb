{
  "nbformat": 4,
  "nbformat_minor": 0,
  "metadata": {
    "colab": {
      "name": "06 XGBoost.ipynb",
      "provenance": [],
      "toc_visible": true,
      "authorship_tag": "ABX9TyNzRISsPg/pelQwYpgvpupt",
      "include_colab_link": true
    },
    "kernelspec": {
      "name": "python3",
      "display_name": "Python 3"
    },
    "language_info": {
      "name": "python"
    }
  },
  "cells": [
    {
      "cell_type": "markdown",
      "metadata": {
        "id": "view-in-github",
        "colab_type": "text"
      },
      "source": [
        "<a href=\"https://colab.research.google.com/github/junieberry/ML-PerfectGuide/blob/main/04.%20%EB%B6%84%EB%A5%98/06%20XGBoost.ipynb\" target=\"_parent\"><img src=\"https://colab.research.google.com/assets/colab-badge.svg\" alt=\"Open In Colab\"/></a>"
      ]
    },
    {
      "cell_type": "markdown",
      "source": [
        "### XGBoost 개요\n",
        "- GBM 기반\n",
        "\n",
        "<br>\n",
        "\n",
        "- 뛰어난 예측 성능\n",
        "- GBM 대비 빠른 수행 시간\n",
        "- Regularization\n",
        "- Tree Pruning (이득이 없는 분할 가지치기)\n",
        "- 교차 검증 내장"
      ],
      "metadata": {
        "id": "GOAAEdE9bwbW"
      }
    },
    {
      "cell_type": "code",
      "execution_count": 7,
      "metadata": {
        "id": "PI5e26OWbttV"
      },
      "outputs": [],
      "source": [
        "!pip install -q xgboost==0.80\n",
        "import xgboost"
      ]
    },
    {
      "cell_type": "markdown",
      "source": [
        "### 파이썬 래퍼 XGBoost 하이퍼 파라미터\n",
        "\n",
        "1. 일반 파라미터\n",
        "    \n",
        "    - booster : tree 기반 or linear 기반\n",
        "    - silent : 출력 메시지 안 찍을때\n",
        "    - nthread : CPU 실행 스레드 개수 조정\n",
        "\n",
        "2. 부스터 파라미터\n",
        "\n",
        "    - eta : GBM의 learning rate와 같다\n",
        "    - num_boost_rounds : GBM의 n_estimators\n",
        "    - *min_child_weight : 트리에서 추가적으로 가지 나눌지 결정하기 위한 데이터들의 weight 총합*\n",
        "    - *gamma : 트리 리프 노드를 추가적으로 나눌지 결정할 최소 손실 감소 값*\n",
        "    - max_depth\n",
        "    - sub_sample\n",
        "    - colsample_bytree\n",
        "    - lambda\n",
        "    - alpha\n",
        "    - scale_pos_weight\n",
        "\n",
        "3. 학습 태스크 파라미터\n",
        "\n",
        "    - objective\n",
        "    - binary:logistic\n",
        "    - multi:softmax\n",
        "    - multi:softprob\n",
        "    - eval_metric\n",
        "\n",
        "<br>\n",
        "\n",
        "---\n",
        "\n",
        "**과적합 해결**\n",
        "1. eta 낮추기\n",
        "2. max_depth 낮추기\n",
        "3. min_child_weight 높이기\n",
        "4. gamma 높이기"
      ],
      "metadata": {
        "id": "j39aLV5wd82s"
      }
    },
    {
      "cell_type": "code",
      "source": [
        "xgboost.__version__"
      ],
      "metadata": {
        "colab": {
          "base_uri": "https://localhost:8080/",
          "height": 35
        },
        "id": "1SLS6HErgjUw",
        "outputId": "06006034-e892-4d28-89f9-59e4577c9827"
      },
      "execution_count": 8,
      "outputs": [
        {
          "output_type": "execute_result",
          "data": {
            "text/plain": [
              "'0.4'"
            ],
            "application/vnd.google.colaboratory.intrinsic+json": {
              "type": "string"
            }
          },
          "metadata": {},
          "execution_count": 8
        }
      ]
    },
    {
      "cell_type": "markdown",
      "source": [
        "### 파이썬 래퍼 XGBoost 적용 : 위스콘신 유방암 예측"
      ],
      "metadata": {
        "id": "xZNAZgxQg0aW"
      }
    },
    {
      "cell_type": "code",
      "source": [
        "import xgboost as xgb\n",
        "from xgboost import plot_importance\n",
        "import pandas as pd\n",
        "import numpy as np\n",
        "from sklearn.datasets import load_breast_cancer\n",
        "from sklearn.model_selection import train_test_split\n",
        "import warnings\n",
        "warnings.filterwarnings('ignore')\n",
        "\n",
        "dataset = load_breast_cancer()\n",
        "x_features= dataset.data\n",
        "y_label = dataset.target\n",
        "\n",
        "cancer_df = pd.DataFrame(data=x_features, columns=dataset.feature_names)\n",
        "cancer_df['target']= y_label\n",
        "cancer_df.head(3)"
      ],
      "metadata": {
        "colab": {
          "base_uri": "https://localhost:8080/",
          "height": 272
        },
        "id": "GXp7gB9ggws-",
        "outputId": "eb295327-ef29-4403-c640-16b6bcc2804a"
      },
      "execution_count": 11,
      "outputs": [
        {
          "output_type": "execute_result",
          "data": {
            "text/plain": [
              "   mean radius  mean texture  mean perimeter  mean area  mean smoothness  \\\n",
              "0        17.99         10.38           122.8     1001.0          0.11840   \n",
              "1        20.57         17.77           132.9     1326.0          0.08474   \n",
              "2        19.69         21.25           130.0     1203.0          0.10960   \n",
              "\n",
              "   mean compactness  mean concavity  mean concave points  mean symmetry  \\\n",
              "0           0.27760          0.3001              0.14710         0.2419   \n",
              "1           0.07864          0.0869              0.07017         0.1812   \n",
              "2           0.15990          0.1974              0.12790         0.2069   \n",
              "\n",
              "   mean fractal dimension  ...  worst texture  worst perimeter  worst area  \\\n",
              "0                 0.07871  ...          17.33            184.6      2019.0   \n",
              "1                 0.05667  ...          23.41            158.8      1956.0   \n",
              "2                 0.05999  ...          25.53            152.5      1709.0   \n",
              "\n",
              "   worst smoothness  worst compactness  worst concavity  worst concave points  \\\n",
              "0            0.1622             0.6656           0.7119                0.2654   \n",
              "1            0.1238             0.1866           0.2416                0.1860   \n",
              "2            0.1444             0.4245           0.4504                0.2430   \n",
              "\n",
              "   worst symmetry  worst fractal dimension  target  \n",
              "0          0.4601                  0.11890       0  \n",
              "1          0.2750                  0.08902       0  \n",
              "2          0.3613                  0.08758       0  \n",
              "\n",
              "[3 rows x 31 columns]"
            ],
            "text/html": [
              "\n",
              "  <div id=\"df-f333e5f3-d1dc-4731-9a84-dd22bb8c9c4b\">\n",
              "    <div class=\"colab-df-container\">\n",
              "      <div>\n",
              "<style scoped>\n",
              "    .dataframe tbody tr th:only-of-type {\n",
              "        vertical-align: middle;\n",
              "    }\n",
              "\n",
              "    .dataframe tbody tr th {\n",
              "        vertical-align: top;\n",
              "    }\n",
              "\n",
              "    .dataframe thead th {\n",
              "        text-align: right;\n",
              "    }\n",
              "</style>\n",
              "<table border=\"1\" class=\"dataframe\">\n",
              "  <thead>\n",
              "    <tr style=\"text-align: right;\">\n",
              "      <th></th>\n",
              "      <th>mean radius</th>\n",
              "      <th>mean texture</th>\n",
              "      <th>mean perimeter</th>\n",
              "      <th>mean area</th>\n",
              "      <th>mean smoothness</th>\n",
              "      <th>mean compactness</th>\n",
              "      <th>mean concavity</th>\n",
              "      <th>mean concave points</th>\n",
              "      <th>mean symmetry</th>\n",
              "      <th>mean fractal dimension</th>\n",
              "      <th>...</th>\n",
              "      <th>worst texture</th>\n",
              "      <th>worst perimeter</th>\n",
              "      <th>worst area</th>\n",
              "      <th>worst smoothness</th>\n",
              "      <th>worst compactness</th>\n",
              "      <th>worst concavity</th>\n",
              "      <th>worst concave points</th>\n",
              "      <th>worst symmetry</th>\n",
              "      <th>worst fractal dimension</th>\n",
              "      <th>target</th>\n",
              "    </tr>\n",
              "  </thead>\n",
              "  <tbody>\n",
              "    <tr>\n",
              "      <th>0</th>\n",
              "      <td>17.99</td>\n",
              "      <td>10.38</td>\n",
              "      <td>122.8</td>\n",
              "      <td>1001.0</td>\n",
              "      <td>0.11840</td>\n",
              "      <td>0.27760</td>\n",
              "      <td>0.3001</td>\n",
              "      <td>0.14710</td>\n",
              "      <td>0.2419</td>\n",
              "      <td>0.07871</td>\n",
              "      <td>...</td>\n",
              "      <td>17.33</td>\n",
              "      <td>184.6</td>\n",
              "      <td>2019.0</td>\n",
              "      <td>0.1622</td>\n",
              "      <td>0.6656</td>\n",
              "      <td>0.7119</td>\n",
              "      <td>0.2654</td>\n",
              "      <td>0.4601</td>\n",
              "      <td>0.11890</td>\n",
              "      <td>0</td>\n",
              "    </tr>\n",
              "    <tr>\n",
              "      <th>1</th>\n",
              "      <td>20.57</td>\n",
              "      <td>17.77</td>\n",
              "      <td>132.9</td>\n",
              "      <td>1326.0</td>\n",
              "      <td>0.08474</td>\n",
              "      <td>0.07864</td>\n",
              "      <td>0.0869</td>\n",
              "      <td>0.07017</td>\n",
              "      <td>0.1812</td>\n",
              "      <td>0.05667</td>\n",
              "      <td>...</td>\n",
              "      <td>23.41</td>\n",
              "      <td>158.8</td>\n",
              "      <td>1956.0</td>\n",
              "      <td>0.1238</td>\n",
              "      <td>0.1866</td>\n",
              "      <td>0.2416</td>\n",
              "      <td>0.1860</td>\n",
              "      <td>0.2750</td>\n",
              "      <td>0.08902</td>\n",
              "      <td>0</td>\n",
              "    </tr>\n",
              "    <tr>\n",
              "      <th>2</th>\n",
              "      <td>19.69</td>\n",
              "      <td>21.25</td>\n",
              "      <td>130.0</td>\n",
              "      <td>1203.0</td>\n",
              "      <td>0.10960</td>\n",
              "      <td>0.15990</td>\n",
              "      <td>0.1974</td>\n",
              "      <td>0.12790</td>\n",
              "      <td>0.2069</td>\n",
              "      <td>0.05999</td>\n",
              "      <td>...</td>\n",
              "      <td>25.53</td>\n",
              "      <td>152.5</td>\n",
              "      <td>1709.0</td>\n",
              "      <td>0.1444</td>\n",
              "      <td>0.4245</td>\n",
              "      <td>0.4504</td>\n",
              "      <td>0.2430</td>\n",
              "      <td>0.3613</td>\n",
              "      <td>0.08758</td>\n",
              "      <td>0</td>\n",
              "    </tr>\n",
              "  </tbody>\n",
              "</table>\n",
              "<p>3 rows × 31 columns</p>\n",
              "</div>\n",
              "      <button class=\"colab-df-convert\" onclick=\"convertToInteractive('df-f333e5f3-d1dc-4731-9a84-dd22bb8c9c4b')\"\n",
              "              title=\"Convert this dataframe to an interactive table.\"\n",
              "              style=\"display:none;\">\n",
              "        \n",
              "  <svg xmlns=\"http://www.w3.org/2000/svg\" height=\"24px\"viewBox=\"0 0 24 24\"\n",
              "       width=\"24px\">\n",
              "    <path d=\"M0 0h24v24H0V0z\" fill=\"none\"/>\n",
              "    <path d=\"M18.56 5.44l.94 2.06.94-2.06 2.06-.94-2.06-.94-.94-2.06-.94 2.06-2.06.94zm-11 1L8.5 8.5l.94-2.06 2.06-.94-2.06-.94L8.5 2.5l-.94 2.06-2.06.94zm10 10l.94 2.06.94-2.06 2.06-.94-2.06-.94-.94-2.06-.94 2.06-2.06.94z\"/><path d=\"M17.41 7.96l-1.37-1.37c-.4-.4-.92-.59-1.43-.59-.52 0-1.04.2-1.43.59L10.3 9.45l-7.72 7.72c-.78.78-.78 2.05 0 2.83L4 21.41c.39.39.9.59 1.41.59.51 0 1.02-.2 1.41-.59l7.78-7.78 2.81-2.81c.8-.78.8-2.07 0-2.86zM5.41 20L4 18.59l7.72-7.72 1.47 1.35L5.41 20z\"/>\n",
              "  </svg>\n",
              "      </button>\n",
              "      \n",
              "  <style>\n",
              "    .colab-df-container {\n",
              "      display:flex;\n",
              "      flex-wrap:wrap;\n",
              "      gap: 12px;\n",
              "    }\n",
              "\n",
              "    .colab-df-convert {\n",
              "      background-color: #E8F0FE;\n",
              "      border: none;\n",
              "      border-radius: 50%;\n",
              "      cursor: pointer;\n",
              "      display: none;\n",
              "      fill: #1967D2;\n",
              "      height: 32px;\n",
              "      padding: 0 0 0 0;\n",
              "      width: 32px;\n",
              "    }\n",
              "\n",
              "    .colab-df-convert:hover {\n",
              "      background-color: #E2EBFA;\n",
              "      box-shadow: 0px 1px 2px rgba(60, 64, 67, 0.3), 0px 1px 3px 1px rgba(60, 64, 67, 0.15);\n",
              "      fill: #174EA6;\n",
              "    }\n",
              "\n",
              "    [theme=dark] .colab-df-convert {\n",
              "      background-color: #3B4455;\n",
              "      fill: #D2E3FC;\n",
              "    }\n",
              "\n",
              "    [theme=dark] .colab-df-convert:hover {\n",
              "      background-color: #434B5C;\n",
              "      box-shadow: 0px 1px 3px 1px rgba(0, 0, 0, 0.15);\n",
              "      filter: drop-shadow(0px 1px 2px rgba(0, 0, 0, 0.3));\n",
              "      fill: #FFFFFF;\n",
              "    }\n",
              "  </style>\n",
              "\n",
              "      <script>\n",
              "        const buttonEl =\n",
              "          document.querySelector('#df-f333e5f3-d1dc-4731-9a84-dd22bb8c9c4b button.colab-df-convert');\n",
              "        buttonEl.style.display =\n",
              "          google.colab.kernel.accessAllowed ? 'block' : 'none';\n",
              "\n",
              "        async function convertToInteractive(key) {\n",
              "          const element = document.querySelector('#df-f333e5f3-d1dc-4731-9a84-dd22bb8c9c4b');\n",
              "          const dataTable =\n",
              "            await google.colab.kernel.invokeFunction('convertToInteractive',\n",
              "                                                     [key], {});\n",
              "          if (!dataTable) return;\n",
              "\n",
              "          const docLinkHtml = 'Like what you see? Visit the ' +\n",
              "            '<a target=\"_blank\" href=https://colab.research.google.com/notebooks/data_table.ipynb>data table notebook</a>'\n",
              "            + ' to learn more about interactive tables.';\n",
              "          element.innerHTML = '';\n",
              "          dataTable['output_type'] = 'display_data';\n",
              "          await google.colab.output.renderOutput(dataTable, element);\n",
              "          const docLink = document.createElement('div');\n",
              "          docLink.innerHTML = docLinkHtml;\n",
              "          element.appendChild(docLink);\n",
              "        }\n",
              "      </script>\n",
              "    </div>\n",
              "  </div>\n",
              "  "
            ]
          },
          "metadata": {},
          "execution_count": 11
        }
      ]
    },
    {
      "cell_type": "code",
      "source": [
        "print(dataset.target_names)\n",
        "print(cancer_df['target'].value_counts())"
      ],
      "metadata": {
        "colab": {
          "base_uri": "https://localhost:8080/"
        },
        "id": "SEOP76wNheY2",
        "outputId": "aee62eed-e603-40c9-d0cf-dbe8fc81e11f"
      },
      "execution_count": 12,
      "outputs": [
        {
          "output_type": "stream",
          "name": "stdout",
          "text": [
            "['malignant' 'benign']\n",
            "1    357\n",
            "0    212\n",
            "Name: target, dtype: int64\n"
          ]
        }
      ]
    },
    {
      "cell_type": "code",
      "source": [
        "x_train, x_test, y_train, y_test=train_test_split(x_features, y_label, test_size=0.2, random_state=156 )\n",
        "print(x_train.shape , x_test.shape)"
      ],
      "metadata": {
        "colab": {
          "base_uri": "https://localhost:8080/"
        },
        "id": "nPSKRTn2hjHb",
        "outputId": "4989bf5a-dda1-4b8c-f017-2d32512da655"
      },
      "execution_count": 15,
      "outputs": [
        {
          "output_type": "stream",
          "name": "stdout",
          "text": [
            "(455, 30) (114, 30)\n"
          ]
        }
      ]
    },
    {
      "cell_type": "code",
      "source": [
        "## XGBoost 전용 데이터 세트\n",
        "dtrain = xgb.DMatrix(data=x_train , label=y_train)\n",
        "dtest = xgb.DMatrix(data=x_test , label=y_test)"
      ],
      "metadata": {
        "id": "_92pW4bDhqIb"
      },
      "execution_count": 16,
      "outputs": []
    },
    {
      "cell_type": "code",
      "source": [
        "params = { 'max_depth':3, # 트리 최대 깊이\n",
        "           'eta': 0.1, # learning rate\n",
        "           'objective':'binary:logistic', # 목적 함수\n",
        "           'eval_metric':'logloss', # 오류 함수 평가 성능 지표\n",
        "           'early_stoppings':100 # 조기 중단ㄴ 할 수 있는 최소 반복 횟수\n",
        "          # 이때 무조건 eval_set과 eval_metric이 정의 되어야 한다\n",
        "        }\n",
        "num_rounds = 400"
      ],
      "metadata": {
        "id": "qrnRzfQhjDqc"
      },
      "execution_count": 17,
      "outputs": []
    },
    {
      "cell_type": "code",
      "source": [
        "# train 데이터 셋은 train , evaluation 데이터 셋은 eval \n",
        "wlist = [(dtrain,'train'),(dtest,'eval') ]\n",
        "# 하이퍼 파라미터와 early stopping 파라미터를 train( ) 함수의 파라미터로 전달\n",
        "xgb_model = xgb.train(params = params , dtrain=dtrain , num_boost_round=num_rounds , evals=wlist )"
      ],
      "metadata": {
        "id": "LgRUTfasjq7y"
      },
      "execution_count": null,
      "outputs": []
    },
    {
      "cell_type": "code",
      "source": [
        "pred_probs = xgb_model.predict(dtest)\n",
        "\n",
        "print(np.round(pred_probs[:10],3))\n",
        "\n",
        "preds = [ 1 if x>0.5 else 0 for x in pred_probs]\n",
        "print(preds[:10])"
      ],
      "metadata": {
        "colab": {
          "base_uri": "https://localhost:8080/"
        },
        "id": "zoKCOLRrj6jg",
        "outputId": "d1ecf1ea-99f8-4088-9657-46c9afc74f99"
      },
      "execution_count": 24,
      "outputs": [
        {
          "output_type": "stream",
          "name": "stdout",
          "text": [
            "[0.95  0.003 0.887 0.066 0.993 1.    1.    0.999 0.997 0.   ]\n",
            "[1, 0, 1, 0, 1, 1, 1, 1, 1, 0]\n"
          ]
        }
      ]
    },
    {
      "cell_type": "code",
      "source": [
        "from sklearn.metrics import confusion_matrix, accuracy_score\n",
        "from sklearn.metrics import precision_score, recall_score\n",
        "from sklearn.metrics import f1_score, roc_auc_score\n",
        "\n",
        "def get_clf_eval(y_test , pred):\n",
        "    confusion = confusion_matrix( y_test, pred)\n",
        "    accuracy = accuracy_score(y_test , pred)\n",
        "    precision = precision_score(y_test , pred)\n",
        "    recall = recall_score(y_test , pred)\n",
        "    f1 = f1_score(y_test,pred)\n",
        "    roc_auc = roc_auc_score(y_test, pred)\n",
        "    print('오차 행렬')\n",
        "    print(confusion)\n",
        "    print('정확도: {0:.4f}, 정밀도: {1:.4f}, 재현율: {2:.4f},\\\n",
        "    F1: {3:.4f}, AUC:{4:.4f}'.format(accuracy, precision, recall, f1, roc_auc))"
      ],
      "metadata": {
        "id": "SHgRJPsZlASC"
      },
      "execution_count": 20,
      "outputs": []
    },
    {
      "cell_type": "code",
      "source": [
        "get_clf_eval(y_test, preds)"
      ],
      "metadata": {
        "colab": {
          "base_uri": "https://localhost:8080/"
        },
        "id": "VTJfH4jHlJ3r",
        "outputId": "db1a652d-4dd7-4977-e867-096cb3ab38cf"
      },
      "execution_count": 25,
      "outputs": [
        {
          "output_type": "stream",
          "name": "stdout",
          "text": [
            "오차 행렬\n",
            "[[35  2]\n",
            " [ 1 76]]\n",
            "정확도: 0.9737, 정밀도: 0.9744, 재현율: 0.9870,    F1: 0.9806, AUC:0.9665\n"
          ]
        }
      ]
    },
    {
      "cell_type": "markdown",
      "source": [
        "## 사이킷런 래퍼 XGBoost의 개요 및 적용\n",
        "\n"
      ],
      "metadata": {
        "id": "f5GAl4rTlgrI"
      }
    },
    {
      "cell_type": "code",
      "source": [
        "from xgboost import XGBClassifier\n",
        "\n",
        "evals = [(x_test, y_test)]\n",
        "xgb_wrapper = XGBClassifier(n_estimators=400, learning_rate=0.1, max_depth=3)\n",
        "xgb_wrapper.fit(x_train , y_train,  early_stopping_rounds=400,eval_set=evals, eval_metric=\"logloss\",  verbose=True)\n",
        "w_preds = xgb_wrapper.predict(x_test)"
      ],
      "metadata": {
        "id": "CS3l8Xtxl0mQ"
      },
      "execution_count": null,
      "outputs": []
    },
    {
      "cell_type": "code",
      "source": [
        "get_clf_eval(y_test, w_preds)"
      ],
      "metadata": {
        "colab": {
          "base_uri": "https://localhost:8080/"
        },
        "id": "h8fsct1xnFHV",
        "outputId": "7172c2ab-2ad5-4610-a0ab-9f18355029af"
      },
      "execution_count": 30,
      "outputs": [
        {
          "output_type": "stream",
          "name": "stdout",
          "text": [
            "오차 행렬\n",
            "[[35  2]\n",
            " [ 1 76]]\n",
            "정확도: 0.9737, 정밀도: 0.9744, 재현율: 0.9870,    F1: 0.9806, AUC:0.9665\n"
          ]
        }
      ]
    },
    {
      "cell_type": "code",
      "source": [
        "from xgboost import XGBClassifier\n",
        "\n",
        "xgb_wrapper = XGBClassifier(n_estimators=400, learning_rate=0.1, max_depth=3)\n",
        "evals = [(x_test, y_test)]\n",
        "xgb_wrapper.fit(x_train, y_train, early_stopping_rounds=100, eval_metric=\"logloss\",eval_set=evals, verbose=True)\n",
        "ws100_preds = xgb_wrapper.predict(x_test)"
      ],
      "metadata": {
        "colab": {
          "base_uri": "https://localhost:8080/"
        },
        "id": "qIWDXZgJpk8o",
        "outputId": "8d80aa71-ee86-4430-f485-ef1fdf3daef5"
      },
      "execution_count": 31,
      "outputs": [
        {
          "output_type": "stream",
          "name": "stderr",
          "text": [
            "Will train until validation_0 error hasn't decreased in 100 rounds.\n",
            "[0]\tvalidation_0-logloss:0.613520\n",
            "[1]\tvalidation_0-logloss:0.547843\n",
            "[2]\tvalidation_0-logloss:0.494248\n",
            "[3]\tvalidation_0-logloss:0.447986\n",
            "[4]\tvalidation_0-logloss:0.409109\n",
            "[5]\tvalidation_0-logloss:0.374977\n",
            "[6]\tvalidation_0-logloss:0.345714\n",
            "[7]\tvalidation_0-logloss:0.320529\n",
            "[8]\tvalidation_0-logloss:0.297210\n",
            "[9]\tvalidation_0-logloss:0.277991\n",
            "[10]\tvalidation_0-logloss:0.260302\n",
            "[11]\tvalidation_0-logloss:0.246037\n",
            "[12]\tvalidation_0-logloss:0.231556\n",
            "[13]\tvalidation_0-logloss:0.220050\n",
            "[14]\tvalidation_0-logloss:0.208572\n",
            "[15]\tvalidation_0-logloss:0.199993\n",
            "[16]\tvalidation_0-logloss:0.190118\n",
            "[17]\tvalidation_0-logloss:0.181818\n",
            "[18]\tvalidation_0-logloss:0.174729\n",
            "[19]\tvalidation_0-logloss:0.167657\n",
            "[20]\tvalidation_0-logloss:0.158202\n",
            "[21]\tvalidation_0-logloss:0.154432\n",
            "[22]\tvalidation_0-logloss:0.148656\n",
            "[23]\tvalidation_0-logloss:0.141245\n",
            "[24]\tvalidation_0-logloss:0.136042\n",
            "[25]\tvalidation_0-logloss:0.132487\n",
            "[26]\tvalidation_0-logloss:0.127632\n",
            "[27]\tvalidation_0-logloss:0.125043\n",
            "[28]\tvalidation_0-logloss:0.119770\n",
            "[29]\tvalidation_0-logloss:0.117073\n",
            "[30]\tvalidation_0-logloss:0.114827\n",
            "[31]\tvalidation_0-logloss:0.113136\n",
            "[32]\tvalidation_0-logloss:0.110032\n",
            "[33]\tvalidation_0-logloss:0.107852\n",
            "[34]\tvalidation_0-logloss:0.107176\n",
            "[35]\tvalidation_0-logloss:0.104638\n",
            "[36]\tvalidation_0-logloss:0.102992\n",
            "[37]\tvalidation_0-logloss:0.100518\n",
            "[38]\tvalidation_0-logloss:0.098188\n",
            "[39]\tvalidation_0-logloss:0.096334\n",
            "[40]\tvalidation_0-logloss:0.095130\n",
            "[41]\tvalidation_0-logloss:0.094663\n",
            "[42]\tvalidation_0-logloss:0.094175\n",
            "[43]\tvalidation_0-logloss:0.092617\n",
            "[44]\tvalidation_0-logloss:0.093162\n",
            "[45]\tvalidation_0-logloss:0.092191\n",
            "[46]\tvalidation_0-logloss:0.091699\n",
            "[47]\tvalidation_0-logloss:0.091546\n",
            "[48]\tvalidation_0-logloss:0.090223\n",
            "[49]\tvalidation_0-logloss:0.089690\n",
            "[50]\tvalidation_0-logloss:0.089572\n",
            "[51]\tvalidation_0-logloss:0.088775\n",
            "[52]\tvalidation_0-logloss:0.089920\n",
            "[53]\tvalidation_0-logloss:0.090687\n",
            "[54]\tvalidation_0-logloss:0.090681\n",
            "[55]\tvalidation_0-logloss:0.089511\n",
            "[56]\tvalidation_0-logloss:0.088928\n",
            "[57]\tvalidation_0-logloss:0.088957\n",
            "[58]\tvalidation_0-logloss:0.089236\n",
            "[59]\tvalidation_0-logloss:0.088844\n",
            "[60]\tvalidation_0-logloss:0.088418\n",
            "[61]\tvalidation_0-logloss:0.088080\n",
            "[62]\tvalidation_0-logloss:0.087247\n",
            "[63]\tvalidation_0-logloss:0.087218\n",
            "[64]\tvalidation_0-logloss:0.086290\n",
            "[65]\tvalidation_0-logloss:0.087353\n",
            "[66]\tvalidation_0-logloss:0.086531\n",
            "[67]\tvalidation_0-logloss:0.086645\n",
            "[68]\tvalidation_0-logloss:0.086404\n",
            "[69]\tvalidation_0-logloss:0.086179\n",
            "[70]\tvalidation_0-logloss:0.087403\n",
            "[71]\tvalidation_0-logloss:0.087263\n",
            "[72]\tvalidation_0-logloss:0.087144\n",
            "[73]\tvalidation_0-logloss:0.087859\n",
            "[74]\tvalidation_0-logloss:0.088397\n",
            "[75]\tvalidation_0-logloss:0.087929\n",
            "[76]\tvalidation_0-logloss:0.087767\n",
            "[77]\tvalidation_0-logloss:0.088981\n",
            "[78]\tvalidation_0-logloss:0.088326\n",
            "[79]\tvalidation_0-logloss:0.088803\n",
            "[80]\tvalidation_0-logloss:0.088559\n",
            "[81]\tvalidation_0-logloss:0.087860\n",
            "[82]\tvalidation_0-logloss:0.087307\n",
            "[83]\tvalidation_0-logloss:0.087602\n",
            "[84]\tvalidation_0-logloss:0.087512\n",
            "[85]\tvalidation_0-logloss:0.087416\n",
            "[86]\tvalidation_0-logloss:0.088504\n",
            "[87]\tvalidation_0-logloss:0.088001\n",
            "[88]\tvalidation_0-logloss:0.087934\n",
            "[89]\tvalidation_0-logloss:0.087565\n",
            "[90]\tvalidation_0-logloss:0.087035\n",
            "[91]\tvalidation_0-logloss:0.086812\n",
            "[92]\tvalidation_0-logloss:0.086427\n",
            "[93]\tvalidation_0-logloss:0.086219\n",
            "[94]\tvalidation_0-logloss:0.085717\n",
            "[95]\tvalidation_0-logloss:0.085899\n",
            "[96]\tvalidation_0-logloss:0.085842\n",
            "[97]\tvalidation_0-logloss:0.085670\n",
            "[98]\tvalidation_0-logloss:0.085227\n",
            "[99]\tvalidation_0-logloss:0.085125\n",
            "[100]\tvalidation_0-logloss:0.085253\n",
            "[101]\tvalidation_0-logloss:0.085118\n",
            "[102]\tvalidation_0-logloss:0.085294\n",
            "[103]\tvalidation_0-logloss:0.084860\n",
            "[104]\tvalidation_0-logloss:0.084817\n",
            "[105]\tvalidation_0-logloss:0.084814\n",
            "[106]\tvalidation_0-logloss:0.084757\n",
            "[107]\tvalidation_0-logloss:0.085698\n",
            "[108]\tvalidation_0-logloss:0.085733\n",
            "[109]\tvalidation_0-logloss:0.085635\n",
            "[110]\tvalidation_0-logloss:0.085522\n",
            "[111]\tvalidation_0-logloss:0.085122\n",
            "[112]\tvalidation_0-logloss:0.086002\n",
            "[113]\tvalidation_0-logloss:0.085977\n",
            "[114]\tvalidation_0-logloss:0.085963\n",
            "[115]\tvalidation_0-logloss:0.085563\n",
            "[116]\tvalidation_0-logloss:0.085616\n",
            "[117]\tvalidation_0-logloss:0.085285\n",
            "[118]\tvalidation_0-logloss:0.085269\n",
            "[119]\tvalidation_0-logloss:0.085827\n",
            "[120]\tvalidation_0-logloss:0.086077\n",
            "[121]\tvalidation_0-logloss:0.085913\n",
            "[122]\tvalidation_0-logloss:0.085850\n",
            "[123]\tvalidation_0-logloss:0.085902\n",
            "[124]\tvalidation_0-logloss:0.085861\n",
            "[125]\tvalidation_0-logloss:0.086441\n",
            "[126]\tvalidation_0-logloss:0.086935\n",
            "[127]\tvalidation_0-logloss:0.087411\n",
            "[128]\tvalidation_0-logloss:0.086986\n",
            "[129]\tvalidation_0-logloss:0.086821\n",
            "[130]\tvalidation_0-logloss:0.086787\n",
            "[131]\tvalidation_0-logloss:0.086736\n",
            "[132]\tvalidation_0-logloss:0.086336\n",
            "[133]\tvalidation_0-logloss:0.086806\n",
            "[134]\tvalidation_0-logloss:0.086726\n",
            "[135]\tvalidation_0-logloss:0.086696\n",
            "[136]\tvalidation_0-logloss:0.086246\n",
            "[137]\tvalidation_0-logloss:0.087161\n",
            "[138]\tvalidation_0-logloss:0.087079\n",
            "[139]\tvalidation_0-logloss:0.087051\n",
            "[140]\tvalidation_0-logloss:0.086675\n",
            "[141]\tvalidation_0-logloss:0.087218\n",
            "[142]\tvalidation_0-logloss:0.086965\n",
            "[143]\tvalidation_0-logloss:0.087486\n",
            "[144]\tvalidation_0-logloss:0.087404\n",
            "[145]\tvalidation_0-logloss:0.087058\n",
            "[146]\tvalidation_0-logloss:0.087035\n",
            "[147]\tvalidation_0-logloss:0.087538\n",
            "[148]\tvalidation_0-logloss:0.087269\n",
            "[149]\tvalidation_0-logloss:0.086926\n",
            "[150]\tvalidation_0-logloss:0.087013\n",
            "[151]\tvalidation_0-logloss:0.086931\n",
            "[152]\tvalidation_0-logloss:0.086910\n",
            "[153]\tvalidation_0-logloss:0.086624\n",
            "[154]\tvalidation_0-logloss:0.086660\n",
            "[155]\tvalidation_0-logloss:0.086382\n",
            "[156]\tvalidation_0-logloss:0.086367\n",
            "[157]\tvalidation_0-logloss:0.086273\n",
            "[158]\tvalidation_0-logloss:0.086326\n",
            "[159]\tvalidation_0-logloss:0.086363\n",
            "[160]\tvalidation_0-logloss:0.086351\n",
            "[161]\tvalidation_0-logloss:0.086079\n",
            "[162]\tvalidation_0-logloss:0.085991\n",
            "[163]\tvalidation_0-logloss:0.085997\n",
            "[164]\tvalidation_0-logloss:0.086051\n",
            "[165]\tvalidation_0-logloss:0.086088\n",
            "[166]\tvalidation_0-logloss:0.085838\n",
            "[167]\tvalidation_0-logloss:0.085758\n",
            "[168]\tvalidation_0-logloss:0.085749\n",
            "[169]\tvalidation_0-logloss:0.085484\n",
            "[170]\tvalidation_0-logloss:0.085521\n",
            "[171]\tvalidation_0-logloss:0.085436\n",
            "[172]\tvalidation_0-logloss:0.085430\n",
            "[173]\tvalidation_0-logloss:0.085168\n",
            "[174]\tvalidation_0-logloss:0.085206\n",
            "[175]\tvalidation_0-logloss:0.084963\n",
            "[176]\tvalidation_0-logloss:0.085050\n",
            "[177]\tvalidation_0-logloss:0.085062\n",
            "[178]\tvalidation_0-logloss:0.085113\n",
            "[179]\tvalidation_0-logloss:0.085032\n",
            "[180]\tvalidation_0-logloss:0.084965\n",
            "[181]\tvalidation_0-logloss:0.084964\n",
            "[182]\tvalidation_0-logloss:0.084713\n",
            "[183]\tvalidation_0-logloss:0.084750\n",
            "[184]\tvalidation_0-logloss:0.084550\n",
            "[185]\tvalidation_0-logloss:0.084587\n",
            "[186]\tvalidation_0-logloss:0.084338\n",
            "[187]\tvalidation_0-logloss:0.084354\n",
            "[188]\tvalidation_0-logloss:0.084123\n",
            "[189]\tvalidation_0-logloss:0.084210\n",
            "[190]\tvalidation_0-logloss:0.084245\n",
            "[191]\tvalidation_0-logloss:0.084055\n",
            "[192]\tvalidation_0-logloss:0.083990\n",
            "[193]\tvalidation_0-logloss:0.083992\n",
            "[194]\tvalidation_0-logloss:0.084051\n",
            "[195]\tvalidation_0-logloss:0.083974\n",
            "[196]\tvalidation_0-logloss:0.083995\n",
            "[197]\tvalidation_0-logloss:0.084032\n",
            "[198]\tvalidation_0-logloss:0.083806\n",
            "[199]\tvalidation_0-logloss:0.083891\n",
            "[200]\tvalidation_0-logloss:0.083927\n",
            "[201]\tvalidation_0-logloss:0.083828\n",
            "[202]\tvalidation_0-logloss:0.083886\n",
            "[203]\tvalidation_0-logloss:0.083923\n",
            "[204]\tvalidation_0-logloss:0.083828\n",
            "[205]\tvalidation_0-logloss:0.083766\n",
            "[206]\tvalidation_0-logloss:0.083773\n",
            "[207]\tvalidation_0-logloss:0.083701\n",
            "[208]\tvalidation_0-logloss:0.083480\n",
            "[209]\tvalidation_0-logloss:0.083505\n",
            "[210]\tvalidation_0-logloss:0.083556\n",
            "[211]\tvalidation_0-logloss:0.083589\n",
            "[212]\tvalidation_0-logloss:0.083673\n",
            "[213]\tvalidation_0-logloss:0.083464\n",
            "[214]\tvalidation_0-logloss:0.083663\n",
            "[215]\tvalidation_0-logloss:0.083671\n",
            "[216]\tvalidation_0-logloss:0.083611\n",
            "[217]\tvalidation_0-logloss:0.083519\n",
            "[218]\tvalidation_0-logloss:0.083718\n",
            "[219]\tvalidation_0-logloss:0.083630\n",
            "[220]\tvalidation_0-logloss:0.083573\n",
            "[221]\tvalidation_0-logloss:0.083607\n",
            "[222]\tvalidation_0-logloss:0.083655\n",
            "[223]\tvalidation_0-logloss:0.083666\n",
            "[224]\tvalidation_0-logloss:0.083860\n",
            "[225]\tvalidation_0-logloss:0.083773\n",
            "[226]\tvalidation_0-logloss:0.083858\n",
            "[227]\tvalidation_0-logloss:0.084050\n",
            "[228]\tvalidation_0-logloss:0.084097\n",
            "[229]\tvalidation_0-logloss:0.084015\n",
            "[230]\tvalidation_0-logloss:0.084050\n",
            "[231]\tvalidation_0-logloss:0.084065\n",
            "[232]\tvalidation_0-logloss:0.084010\n",
            "[233]\tvalidation_0-logloss:0.083840\n",
            "[234]\tvalidation_0-logloss:0.084030\n",
            "[235]\tvalidation_0-logloss:0.083951\n",
            "[236]\tvalidation_0-logloss:0.083900\n",
            "[237]\tvalidation_0-logloss:0.083916\n",
            "[238]\tvalidation_0-logloss:0.083963\n",
            "[239]\tvalidation_0-logloss:0.083999\n",
            "[240]\tvalidation_0-logloss:0.084083\n",
            "[241]\tvalidation_0-logloss:0.083920\n",
            "[242]\tvalidation_0-logloss:0.084109\n",
            "[243]\tvalidation_0-logloss:0.084127\n",
            "[244]\tvalidation_0-logloss:0.084173\n",
            "[245]\tvalidation_0-logloss:0.084209\n",
            "[246]\tvalidation_0-logloss:0.084135\n",
            "[247]\tvalidation_0-logloss:0.084085\n",
            "[248]\tvalidation_0-logloss:0.084270\n",
            "[249]\tvalidation_0-logloss:0.084195\n",
            "[250]\tvalidation_0-logloss:0.084204\n",
            "[251]\tvalidation_0-logloss:0.084049\n",
            "[252]\tvalidation_0-logloss:0.084003\n",
            "[253]\tvalidation_0-logloss:0.084023\n",
            "[254]\tvalidation_0-logloss:0.084207\n",
            "[255]\tvalidation_0-logloss:0.084252\n",
            "[256]\tvalidation_0-logloss:0.084289\n",
            "[257]\tvalidation_0-logloss:0.084218\n",
            "[258]\tvalidation_0-logloss:0.084303\n",
            "[259]\tvalidation_0-logloss:0.084483\n",
            "[260]\tvalidation_0-logloss:0.084504\n",
            "[261]\tvalidation_0-logloss:0.084459\n",
            "[262]\tvalidation_0-logloss:0.084306\n",
            "[263]\tvalidation_0-logloss:0.084350\n",
            "[264]\tvalidation_0-logloss:0.084388\n",
            "[265]\tvalidation_0-logloss:0.084409\n",
            "[266]\tvalidation_0-logloss:0.084493\n",
            "[267]\tvalidation_0-logloss:0.084669\n",
            "[268]\tvalidation_0-logloss:0.084601\n",
            "[269]\tvalidation_0-logloss:0.084558\n",
            "[270]\tvalidation_0-logloss:0.084417\n",
            "[271]\tvalidation_0-logloss:0.084461\n",
            "[272]\tvalidation_0-logloss:0.084497\n",
            "[273]\tvalidation_0-logloss:0.084670\n",
            "[274]\tvalidation_0-logloss:0.084693\n",
            "[275]\tvalidation_0-logloss:0.084736\n",
            "[276]\tvalidation_0-logloss:0.084598\n",
            "[277]\tvalidation_0-logloss:0.084633\n",
            "[278]\tvalidation_0-logloss:0.084716\n",
            "[279]\tvalidation_0-logloss:0.084674\n",
            "[280]\tvalidation_0-logloss:0.084538\n",
            "[281]\tvalidation_0-logloss:0.084581\n",
            "[282]\tvalidation_0-logloss:0.084455\n",
            "[283]\tvalidation_0-logloss:0.084479\n",
            "[284]\tvalidation_0-logloss:0.084441\n",
            "[285]\tvalidation_0-logloss:0.084310\n",
            "[286]\tvalidation_0-logloss:0.084388\n",
            "[287]\tvalidation_0-logloss:0.084394\n",
            "[288]\tvalidation_0-logloss:0.084436\n",
            "[289]\tvalidation_0-logloss:0.084314\n",
            "[290]\tvalidation_0-logloss:0.084183\n",
            "[291]\tvalidation_0-logloss:0.084209\n",
            "[292]\tvalidation_0-logloss:0.084252\n",
            "[293]\tvalidation_0-logloss:0.084284\n",
            "[294]\tvalidation_0-logloss:0.084361\n",
            "[295]\tvalidation_0-logloss:0.084326\n",
            "[296]\tvalidation_0-logloss:0.084199\n",
            "[297]\tvalidation_0-logloss:0.084206\n",
            "[298]\tvalidation_0-logloss:0.084233\n",
            "[299]\tvalidation_0-logloss:0.084275\n",
            "[300]\tvalidation_0-logloss:0.084156\n",
            "[301]\tvalidation_0-logloss:0.084033\n",
            "[302]\tvalidation_0-logloss:0.084041\n",
            "[303]\tvalidation_0-logloss:0.084116\n",
            "[304]\tvalidation_0-logloss:0.084157\n",
            "[305]\tvalidation_0-logloss:0.084036\n",
            "[306]\tvalidation_0-logloss:0.084002\n",
            "[307]\tvalidation_0-logloss:0.084030\n",
            "[308]\tvalidation_0-logloss:0.083913\n",
            "[309]\tvalidation_0-logloss:0.083954\n",
            "[310]\tvalidation_0-logloss:0.083837\n",
            "[311]\tvalidation_0-logloss:0.083846\n",
            "[312]\tvalidation_0-logloss:0.083919\n",
            "[313]\tvalidation_0-logloss:0.083805\n",
            "Stopping. Best iteration:\n",
            "[213]\tvalidation_0-logloss:0.083464\n",
            "\n"
          ]
        }
      ]
    },
    {
      "cell_type": "markdown",
      "source": [
        "213때부터 100 동안 성능이 나아지지 않아서 멈췄다~"
      ],
      "metadata": {
        "id": "5DuqABSBpszb"
      }
    }
  ]
}