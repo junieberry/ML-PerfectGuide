{
  "nbformat": 4,
  "nbformat_minor": 0,
  "metadata": {
    "colab": {
      "name": "05 GBM.ipynb",
      "provenance": [],
      "mount_file_id": "1SvSaGb224EuAEIcmR4zWpbjjysvv6Hv4",
      "authorship_tag": "ABX9TyOLaTEYg4RUpEYNe67KhHnC",
      "include_colab_link": true
    },
    "kernelspec": {
      "name": "python3",
      "display_name": "Python 3"
    },
    "language_info": {
      "name": "python"
    }
  },
  "cells": [
    {
      "cell_type": "markdown",
      "metadata": {
        "id": "view-in-github",
        "colab_type": "text"
      },
      "source": [
        "<a href=\"https://colab.research.google.com/github/junieberry/ML-PerfectGuide/blob/main/04.%20%EB%B6%84%EB%A5%98/05%20GBM.ipynb\" target=\"_parent\"><img src=\"https://colab.research.google.com/assets/colab-badge.svg\" alt=\"Open In Colab\"/></a>"
      ]
    },
    {
      "cell_type": "markdown",
      "source": [
        "## GBM의 개요 및 실습\n",
        "\n",
        "부스팅 알고리즘은 여러 개의 약한 학습기를 순차적으로 학습-예측하며 잘못 예측한 데이터에 가중치 부여를 통해 부스팅 수행\n",
        "\n",
        "1. AdaBoost\n",
        "\n",
        "    - 오류 데이터에 가중치 부여\n",
        "    - 가중치는 손으로 부여하는듯\n",
        "2. 그래디언트 부스트\n",
        "\n",
        "    - 가중치 업데이트를 경사 하강법으로"
      ],
      "metadata": {
        "id": "ysicH6HDYJdX"
      }
    },
    {
      "cell_type": "code",
      "source": [
        "# 중복된 feature 이름 변경\n",
        "def get_new_feature_name_df(old_feature_name_df):\n",
        "    feature_dup_df = pd.DataFrame(data=old_feature_name_df.groupby('column_name').cumcount(), columns=['dup_cnt'])\n",
        "    \n",
        "    feature_dup_df = feature_dup_df.reset_index()\n",
        "    print(feature_dup_df)\n",
        "    new_feature_name_df = pd.merge(old_feature_name_df.reset_index(), feature_dup_df, how='outer')\n",
        "    new_feature_name_df['column_name'] = new_feature_name_df[['column_name', 'dup_cnt']].apply(lambda x : x[0]+'_'+str(x[1]) \n",
        "                                                                                           if x[1] >0 else x[0] ,  axis=1)\n",
        "    new_feature_name_df = new_feature_name_df.drop(['index'], axis=1)\n",
        "    return new_feature_name_df"
      ],
      "metadata": {
        "id": "9c7kHaoJawhz"
      },
      "execution_count": 1,
      "outputs": []
    },
    {
      "cell_type": "code",
      "source": [
        "import pandas as pd\n",
        "\n",
        "def get_human_dataset():\n",
        "\n",
        "    # 공백으로 구분\n",
        "    feature_name_df = pd.read_csv('/content/drive/MyDrive/UCI HAR Dataset/features.txt', sep='\\s+', header=None, names=['column_index', 'column_name'])\n",
        "\n",
        "    # 중복된 피처명 수정\n",
        "    new_feature_name_df = get_new_feature_name_df(feature_name_df)\n",
        "\n",
        "    # Dataframe한테 피처명 칼럼으로 주기 위해서 리스트로 변경\n",
        "    feature_name = new_feature_name_df.iloc[:,1].values.tolist()\n",
        "\n",
        "    # 피처 데이터 세트링 라벨 데이터 세트\n",
        "    x_train = pd.read_csv('/content/drive/MyDrive/UCI HAR Dataset/train/X_train.txt',sep='\\s+', names=feature_name )\n",
        "    x_test = pd.read_csv('/content/drive/MyDrive/UCI HAR Dataset/test/X_test.txt',sep='\\s+', names=feature_name)\n",
        "    \n",
        "    y_train = pd.read_csv('/content/drive/MyDrive/UCI HAR Dataset/train/y_train.txt',sep='\\s+',header=None,names=['action'])\n",
        "    y_test = pd.read_csv('/content/drive/MyDrive/UCI HAR Dataset/test/y_test.txt',sep='\\s+',header=None,names=['action'])\n",
        "    \n",
        "    # 반환\n",
        "    return x_train, x_test, y_train, y_test\n",
        "\n",
        "\n",
        "x_train, x_test, y_train, y_test = get_human_dataset()"
      ],
      "metadata": {
        "colab": {
          "base_uri": "https://localhost:8080/"
        },
        "id": "znHJ-7Ala0gY",
        "outputId": "204da26c-3396-49ad-92bc-3aee70c6ed34"
      },
      "execution_count": 3,
      "outputs": [
        {
          "output_type": "stream",
          "name": "stdout",
          "text": [
            "     index  dup_cnt\n",
            "0        0        0\n",
            "1        1        0\n",
            "2        2        0\n",
            "3        3        0\n",
            "4        4        0\n",
            "..     ...      ...\n",
            "556    556        0\n",
            "557    557        0\n",
            "558    558        0\n",
            "559    559        0\n",
            "560    560        0\n",
            "\n",
            "[561 rows x 2 columns]\n"
          ]
        }
      ]
    },
    {
      "cell_type": "code",
      "source": [
        "from sklearn.ensemble import GradientBoostingClassifier\n",
        "from sklearn.metrics import accuracy_score\n",
        "import time\n",
        "import warnings\n",
        "warnings.filterwarnings('ignore')\n",
        "\n",
        "x_train, x_test, y_train, y_test = get_human_dataset()\n",
        "\n",
        "start_time = time.time()\n",
        "\n",
        "gb_clf = GradientBoostingClassifier(random_state=0)\n",
        "gb_clf.fit(x_train , y_train)\n",
        "gb_pred = gb_clf.predict(x_test)\n",
        "gb_accuracy = accuracy_score(y_test, gb_pred)\n",
        "\n",
        "print('GBM 정확도: {0:.4f}'.format(gb_accuracy))\n",
        "print(\"GBM 수행 시간: {0:.1f} 초 \".format(time.time() - start_time))"
      ],
      "metadata": {
        "colab": {
          "base_uri": "https://localhost:8080/"
        },
        "id": "keiHFNtcat3G",
        "outputId": "6798d50d-128b-4218-bc09-b9a6a0e4aa43"
      },
      "execution_count": 6,
      "outputs": [
        {
          "output_type": "stream",
          "name": "stdout",
          "text": [
            "     index  dup_cnt\n",
            "0        0        0\n",
            "1        1        0\n",
            "2        2        0\n",
            "3        3        0\n",
            "4        4        0\n",
            "..     ...      ...\n",
            "556    556        0\n",
            "557    557        0\n",
            "558    558        0\n",
            "559    559        0\n",
            "560    560        0\n",
            "\n",
            "[561 rows x 2 columns]\n",
            "GBM 정확도: 0.9386\n",
            "GBM 수행 시간: 808.5 초 \n"
          ]
        }
      ]
    },
    {
      "cell_type": "markdown",
      "source": [
        "일반적으로 랜덤 포레스트보다 예측 성능이 좋음\n",
        "- **수행 시간이 오래 걸림**\n",
        "- 하이퍼 파라미터 튜닝 필요"
      ],
      "metadata": {
        "id": "TgwHGFEma9j0"
      }
    },
    {
      "cell_type": "markdown",
      "source": [
        "### GBM 하이퍼파라미터 및 튜닝\n",
        "\n",
        "1. `loss` : 경사 하강법 비용 함수\n",
        "2. `learning rate`\n",
        "3. `n_estimaators` : weak learner 개수\n",
        "4. `subsample` :샘플링 비율 (1이면 전체 데이터 기반으로 학습)"
      ],
      "metadata": {
        "id": "A60IvrxpbJVS"
      }
    },
    {
      "cell_type": "code",
      "execution_count": null,
      "metadata": {
        "id": "guYnht0QYHQa"
      },
      "outputs": [],
      "source": [
        "from sklearn.model_selection import GridSearchCV\n",
        "\n",
        "params = {\n",
        "    'n_estimators':[100, 500],\n",
        "    'learning_rate' : [ 0.05, 0.1]\n",
        "}\n",
        "grid_cv = GridSearchCV(gb_clf , param_grid=params , cv=2 ,verbose=1)\n",
        "grid_cv.fit(x_train , y_train)\n",
        "print('최적 하이퍼 파라미터:\\n', grid_cv.best_params_)\n",
        "print('최고 예측 정확도: {0:.4f}'.format(grid_cv.best_score_))"
      ]
    },
    {
      "cell_type": "code",
      "source": [
        "gb_pred = grid_cv.best_estimator_.predict(x_test)\n",
        "gb_accuracy = accuracy_score(y_test, gb_pred)\n",
        "print('GBM 정확도: {0:.4f}'.format(gb_accuracy))"
      ],
      "metadata": {
        "id": "O8V5fyqnbpeY"
      },
      "execution_count": null,
      "outputs": []
    }
  ]
}