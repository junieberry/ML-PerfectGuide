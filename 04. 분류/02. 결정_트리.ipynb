{
  "nbformat": 4,
  "nbformat_minor": 0,
  "metadata": {
    "colab": {
      "name": "02. 결정 트리.ipynb",
      "provenance": [],
      "mount_file_id": "1wgweNuHULJSuVt6pCqP357H8szCLSRNP",
      "authorship_tag": "ABX9TyOuiT2EFDZIzUCVxgpP4PZh",
      "include_colab_link": true
    },
    "kernelspec": {
      "name": "python3",
      "display_name": "Python 3"
    },
    "language_info": {
      "name": "python"
    }
  },
  "cells": [
    {
      "cell_type": "markdown",
      "metadata": {
        "id": "view-in-github",
        "colab_type": "text"
      },
      "source": [
        "<a href=\"https://colab.research.google.com/github/junieberry/ML-PerfectGuide/blob/main/04.%20%EB%B6%84%EB%A5%98/02.%20%EA%B2%B0%EC%A0%95_%ED%8A%B8%EB%A6%AC.ipynb\" target=\"_parent\"><img src=\"https://colab.research.google.com/assets/colab-badge.svg\" alt=\"Open In Colab\"/></a>"
      ]
    },
    {
      "cell_type": "markdown",
      "source": [
        "## 01 분류의 개요\n",
        "\n",
        "- 나이브 베이즈\n",
        "- 로지스틱 회귀\n",
        "- 의사 결정 트리\n",
        "- 서포트 벡터 머신\n",
        "- 최소 근접 알고리즘\n",
        "- 심층 신경망\n",
        "- 앙상블\n",
        "\n",
        "주로 **앙상블**에 대해 다룸\n",
        "1. 배깅 (Bagging)\n",
        "\n",
        "    - 랜덤 포레스트\n",
        "        \n",
        "2. 부스팅 (Boosting)\n",
        "\n",
        "    - 그래디언트 부스팅\n",
        "        \n",
        "        너무 느림\n",
        "    - XgBoost\n",
        "    - LightGBM"
      ],
      "metadata": {
        "id": "aWajMTpLQTZv"
      }
    },
    {
      "cell_type": "markdown",
      "source": [
        "## 02 결정 트리\n",
        "\n",
        "- 앙상블의 기본 알고리즘\n",
        "- 쉽고 유연하며, 데이터의 스케일링이나 정규화 등 사전 가공의 영향이 적음\n",
        "- 규칙 구조가 복잡해 과적합이 발생할 수 있음\n",
        "- 이러한 단점이 앙상블에서 장점으로 작용\n",
        "\n",
        "<br>\n",
        "\n",
        "\n",
        "---\n",
        "\n",
        "<br>\n",
        "\n",
        "\n",
        "- 데이터의 규칙을 자동으로 찾아네 트리 기반의 분류 규칙을 생성\n",
        "- 트리의 depth가 깊어질수록 과적합 가능성\n",
        "- 데이터를 분류할 때 최대한 많은 데이터 세트가 분류에 속하도록 규칙을 정해야함\n",
        "- **어떻게 트리를 split할 것인가?**\n",
        "\n",
        "<br>\n",
        "\n",
        "---\n",
        "\n",
        "<br>\n",
        "\n",
        "\n",
        "**정보 균일도**\n",
        "1. Information Gain (엔트로피)\n",
        "\n",
        "    정보 이득이 높은 속성으로 분할\n",
        "2. 지니 계수\n",
        "\n",
        "    0이 가장 평등하고 1으로 갈 수록 불평등\n",
        "\n",
        "---\n",
        "\n",
        "1. `DecisionTreeClassifier`은 지니 계수가 낮은 조건을 찾아 분할\n",
        "2. 모두 특정 분류에 속하게 되면 분할을 멈추고 분류를 결정"
      ],
      "metadata": {
        "id": "1l4SThHBSRqp"
      }
    },
    {
      "cell_type": "markdown",
      "source": [
        "### 결정 트리 모델의 특징\n",
        "\n",
        "장점|단점\n",
        "---|---\n",
        "- 쉽다| - 과적합 발생\n",
        "- 피처 스케일링이나 정규화 등 사전 가공 영향도가 크지 않음|"
      ],
      "metadata": {
        "id": "hLJmX3iYUk_C"
      }
    },
    {
      "cell_type": "markdown",
      "source": [
        "### 결정 트리 파라미터\n",
        "\n",
        "- `DecisionTreeClassifier` : 분류\n",
        "- `DecisionTreeRegresso` : 회귀\n",
        "\n",
        "---\n",
        "\n",
        "- `min_samples_split`\n",
        "    \n",
        "    - 노드 분할 위한 최소 샘플 데이터 수\n",
        "    - 데이터 수가 적은 노드는 찢지 않는다\n",
        "    - 작게 설정하면 분할되는 노드가 많아져서 과적합 가능성 증가\n",
        "    - 과적합 제어에 사용\n",
        "\n",
        "- `min_samples_leaf`\n",
        "\n",
        "    - 말단 노드가 되기 위한 최소한의 샘플 데이터 수\n",
        "    - 커질 수록 더 러프하게 구분하게 됨\n",
        "    - 비대칭적 데이터는 데이터가 적을 수 있어 주의 필요\n",
        "    - 과적합 제어에 사용\n",
        "\n",
        "- `max_features`\n",
        "\n",
        "    - 최적의 분할을 위해 고려할 최대 피처 개수\n",
        "    - 디폴트는 None\n",
        "    - int면 피쳐 개수, float이면 피처의 퍼센트\n",
        "\n",
        "- `max_depth`\n",
        "\n",
        "    - 트리의 최대 깊이\n",
        "- `max_leaf_nodes`\n",
        "\n",
        "    - 말단 노드의 최대 개수"
      ],
      "metadata": {
        "id": "95swcfBizpwp"
      }
    },
    {
      "cell_type": "markdown",
      "source": [
        "### 결정 트리 모델의 시각화\n",
        "\n",
        "`Graphviz` 채키지 사용"
      ],
      "metadata": {
        "id": "_kv6ul2_1qr-"
      }
    },
    {
      "cell_type": "code",
      "execution_count": 1,
      "metadata": {
        "id": "tNjSGKmhNyJS"
      },
      "outputs": [],
      "source": [
        "## using graphviz \n",
        "!apt-get -qq install -y graphviz && pip install -q pydot\n",
        "import pydot"
      ]
    },
    {
      "cell_type": "code",
      "source": [
        "from sklearn.tree import DecisionTreeClassifier\n",
        "from sklearn.datasets import load_iris\n",
        "from sklearn.model_selection import train_test_split\n",
        "\n",
        "dt_clf = DecisionTreeClassifier(random_state=156)\n",
        "\n",
        "iris_data = load_iris()\n",
        "\n",
        "x_train, x_test, y_train, y_test = train_test_split(iris_data.data, iris_data.target, test_size=0.2, random_state=11)\n",
        "\n",
        "## 학습\n",
        "dt_clf.fit(x_train, y_train)"
      ],
      "metadata": {
        "colab": {
          "base_uri": "https://localhost:8080/"
        },
        "id": "7HmH8aHW2pCM",
        "outputId": "b8f9e73a-3299-4a49-a1f2-e7cb5239d757"
      },
      "execution_count": 3,
      "outputs": [
        {
          "output_type": "execute_result",
          "data": {
            "text/plain": [
              "DecisionTreeClassifier(random_state=156)"
            ]
          },
          "metadata": {},
          "execution_count": 3
        }
      ]
    },
    {
      "cell_type": "code",
      "source": [
        "from sklearn.tree import export_graphviz\n",
        "\n",
        "# export_graphviz는 Graphviz가 읽을 수 있는 출력 파일 생성\n",
        "## estimator, output 파일 명, 결정 클래스 명칭, 피쳐 명칭\n",
        "export_graphviz(dt_clf, out_file=\"tree.dot\", class_names=iris_data.target_names, feature_names=iris_data.feature_names, impurity=True, filled=True)"
      ],
      "metadata": {
        "id": "dhfFPm3G3Qr8"
      },
      "execution_count": 4,
      "outputs": []
    },
    {
      "cell_type": "code",
      "source": [
        "import graphviz\n",
        "\n",
        "with open(\"tree.dot\") as f:\n",
        "    dot_graph = f.read()\n",
        "graphviz.Source(dot_graph)"
      ],
      "metadata": {
        "colab": {
          "base_uri": "https://localhost:8080/",
          "height": 936
        },
        "id": "z5oR-8xK37Q7",
        "outputId": "0319950d-c7b7-452d-c62b-bc107dcc4f6e"
      },
      "execution_count": 5,
      "outputs": [
        {
          "output_type": "execute_result",
          "data": {
            "text/plain": [
              "<graphviz.files.Source at 0x7fe496683750>"
            ],
            "image/svg+xml": "<?xml version=\"1.0\" encoding=\"UTF-8\" standalone=\"no\"?>\n<!DOCTYPE svg PUBLIC \"-//W3C//DTD SVG 1.1//EN\"\n \"http://www.w3.org/Graphics/SVG/1.1/DTD/svg11.dtd\">\n<!-- Generated by graphviz version 2.40.1 (20161225.0304)\n -->\n<!-- Title: Tree Pages: 1 -->\n<svg width=\"821pt\" height=\"671pt\"\n viewBox=\"0.00 0.00 820.50 671.00\" xmlns=\"http://www.w3.org/2000/svg\" xmlns:xlink=\"http://www.w3.org/1999/xlink\">\n<g id=\"graph0\" class=\"graph\" transform=\"scale(1 1) rotate(0) translate(4 667)\">\n<title>Tree</title>\n<polygon fill=\"#ffffff\" stroke=\"transparent\" points=\"-4,4 -4,-667 816.5,-667 816.5,4 -4,4\"/>\n<!-- 0 -->\n<g id=\"node1\" class=\"node\">\n<title>0</title>\n<polygon fill=\"#fffdfd\" stroke=\"#000000\" points=\"300,-663 124,-663 124,-580 300,-580 300,-663\"/>\n<text text-anchor=\"middle\" x=\"212\" y=\"-647.8\" font-family=\"Helvetica,sans-Serif\" font-size=\"14.00\" fill=\"#000000\">petal length (cm) &lt;= 2.45</text>\n<text text-anchor=\"middle\" x=\"212\" y=\"-632.8\" font-family=\"Helvetica,sans-Serif\" font-size=\"14.00\" fill=\"#000000\">gini = 0.667</text>\n<text text-anchor=\"middle\" x=\"212\" y=\"-617.8\" font-family=\"Helvetica,sans-Serif\" font-size=\"14.00\" fill=\"#000000\">samples = 120</text>\n<text text-anchor=\"middle\" x=\"212\" y=\"-602.8\" font-family=\"Helvetica,sans-Serif\" font-size=\"14.00\" fill=\"#000000\">value = [41, 40, 39]</text>\n<text text-anchor=\"middle\" x=\"212\" y=\"-587.8\" font-family=\"Helvetica,sans-Serif\" font-size=\"14.00\" fill=\"#000000\">class = setosa</text>\n</g>\n<!-- 1 -->\n<g id=\"node2\" class=\"node\">\n<title>1</title>\n<polygon fill=\"#e58139\" stroke=\"#000000\" points=\"191.5,-536.5 68.5,-536.5 68.5,-468.5 191.5,-468.5 191.5,-536.5\"/>\n<text text-anchor=\"middle\" x=\"130\" y=\"-521.3\" font-family=\"Helvetica,sans-Serif\" font-size=\"14.00\" fill=\"#000000\">gini = 0.0</text>\n<text text-anchor=\"middle\" x=\"130\" y=\"-506.3\" font-family=\"Helvetica,sans-Serif\" font-size=\"14.00\" fill=\"#000000\">samples = 41</text>\n<text text-anchor=\"middle\" x=\"130\" y=\"-491.3\" font-family=\"Helvetica,sans-Serif\" font-size=\"14.00\" fill=\"#000000\">value = [41, 0, 0]</text>\n<text text-anchor=\"middle\" x=\"130\" y=\"-476.3\" font-family=\"Helvetica,sans-Serif\" font-size=\"14.00\" fill=\"#000000\">class = setosa</text>\n</g>\n<!-- 0&#45;&gt;1 -->\n<g id=\"edge1\" class=\"edge\">\n<title>0&#45;&gt;1</title>\n<path fill=\"none\" stroke=\"#000000\" d=\"M183.3204,-579.8796C175.5917,-568.6636 167.2191,-556.5131 159.4492,-545.2372\"/>\n<polygon fill=\"#000000\" stroke=\"#000000\" points=\"162.2018,-543.0634 153.6456,-536.8149 156.4377,-547.0353 162.2018,-543.0634\"/>\n<text text-anchor=\"middle\" x=\"149.1196\" y=\"-557.7018\" font-family=\"Helvetica,sans-Serif\" font-size=\"14.00\" fill=\"#000000\">True</text>\n</g>\n<!-- 2 -->\n<g id=\"node3\" class=\"node\">\n<title>2</title>\n<polygon fill=\"#fafefc\" stroke=\"#000000\" points=\"380,-544 210,-544 210,-461 380,-461 380,-544\"/>\n<text text-anchor=\"middle\" x=\"295\" y=\"-528.8\" font-family=\"Helvetica,sans-Serif\" font-size=\"14.00\" fill=\"#000000\">petal width (cm) &lt;= 1.55</text>\n<text text-anchor=\"middle\" x=\"295\" y=\"-513.8\" font-family=\"Helvetica,sans-Serif\" font-size=\"14.00\" fill=\"#000000\">gini = 0.5</text>\n<text text-anchor=\"middle\" x=\"295\" y=\"-498.8\" font-family=\"Helvetica,sans-Serif\" font-size=\"14.00\" fill=\"#000000\">samples = 79</text>\n<text text-anchor=\"middle\" x=\"295\" y=\"-483.8\" font-family=\"Helvetica,sans-Serif\" font-size=\"14.00\" fill=\"#000000\">value = [0, 40, 39]</text>\n<text text-anchor=\"middle\" x=\"295\" y=\"-468.8\" font-family=\"Helvetica,sans-Serif\" font-size=\"14.00\" fill=\"#000000\">class = versicolor</text>\n</g>\n<!-- 0&#45;&gt;2 -->\n<g id=\"edge2\" class=\"edge\">\n<title>0&#45;&gt;2</title>\n<path fill=\"none\" stroke=\"#000000\" d=\"M241.0294,-579.8796C247.1855,-571.0534 253.7451,-561.6485 260.0936,-552.5466\"/>\n<polygon fill=\"#000000\" stroke=\"#000000\" points=\"262.9967,-554.5024 265.8467,-544.2981 257.2552,-550.4978 262.9967,-554.5024\"/>\n<text text-anchor=\"middle\" x=\"270.2331\" y=\"-565.2103\" font-family=\"Helvetica,sans-Serif\" font-size=\"14.00\" fill=\"#000000\">False</text>\n</g>\n<!-- 3 -->\n<g id=\"node4\" class=\"node\">\n<title>3</title>\n<polygon fill=\"#3ee684\" stroke=\"#000000\" points=\"288,-425 112,-425 112,-342 288,-342 288,-425\"/>\n<text text-anchor=\"middle\" x=\"200\" y=\"-409.8\" font-family=\"Helvetica,sans-Serif\" font-size=\"14.00\" fill=\"#000000\">petal length (cm) &lt;= 5.25</text>\n<text text-anchor=\"middle\" x=\"200\" y=\"-394.8\" font-family=\"Helvetica,sans-Serif\" font-size=\"14.00\" fill=\"#000000\">gini = 0.051</text>\n<text text-anchor=\"middle\" x=\"200\" y=\"-379.8\" font-family=\"Helvetica,sans-Serif\" font-size=\"14.00\" fill=\"#000000\">samples = 38</text>\n<text text-anchor=\"middle\" x=\"200\" y=\"-364.8\" font-family=\"Helvetica,sans-Serif\" font-size=\"14.00\" fill=\"#000000\">value = [0, 37, 1]</text>\n<text text-anchor=\"middle\" x=\"200\" y=\"-349.8\" font-family=\"Helvetica,sans-Serif\" font-size=\"14.00\" fill=\"#000000\">class = versicolor</text>\n</g>\n<!-- 2&#45;&gt;3 -->\n<g id=\"edge3\" class=\"edge\">\n<title>2&#45;&gt;3</title>\n<path fill=\"none\" stroke=\"#000000\" d=\"M261.7736,-460.8796C254.6556,-451.9633 247.0661,-442.4565 239.7308,-433.268\"/>\n<polygon fill=\"#000000\" stroke=\"#000000\" points=\"242.3425,-430.9295 233.3682,-425.2981 236.8719,-435.2968 242.3425,-430.9295\"/>\n</g>\n<!-- 6 -->\n<g id=\"node7\" class=\"node\">\n<title>6</title>\n<polygon fill=\"#8b49e7\" stroke=\"#000000\" points=\"476,-425 306,-425 306,-342 476,-342 476,-425\"/>\n<text text-anchor=\"middle\" x=\"391\" y=\"-409.8\" font-family=\"Helvetica,sans-Serif\" font-size=\"14.00\" fill=\"#000000\">petal width (cm) &lt;= 1.75</text>\n<text text-anchor=\"middle\" x=\"391\" y=\"-394.8\" font-family=\"Helvetica,sans-Serif\" font-size=\"14.00\" fill=\"#000000\">gini = 0.136</text>\n<text text-anchor=\"middle\" x=\"391\" y=\"-379.8\" font-family=\"Helvetica,sans-Serif\" font-size=\"14.00\" fill=\"#000000\">samples = 41</text>\n<text text-anchor=\"middle\" x=\"391\" y=\"-364.8\" font-family=\"Helvetica,sans-Serif\" font-size=\"14.00\" fill=\"#000000\">value = [0, 3, 38]</text>\n<text text-anchor=\"middle\" x=\"391\" y=\"-349.8\" font-family=\"Helvetica,sans-Serif\" font-size=\"14.00\" fill=\"#000000\">class = virginica</text>\n</g>\n<!-- 2&#45;&gt;6 -->\n<g id=\"edge6\" class=\"edge\">\n<title>2&#45;&gt;6</title>\n<path fill=\"none\" stroke=\"#000000\" d=\"M328.5761,-460.8796C335.7691,-451.9633 343.4384,-442.4565 350.851,-433.268\"/>\n<polygon fill=\"#000000\" stroke=\"#000000\" points=\"353.7258,-435.2788 357.2805,-425.2981 348.2776,-430.8836 353.7258,-435.2788\"/>\n</g>\n<!-- 4 -->\n<g id=\"node5\" class=\"node\">\n<title>4</title>\n<polygon fill=\"#39e581\" stroke=\"#000000\" points=\"128,-298.5 0,-298.5 0,-230.5 128,-230.5 128,-298.5\"/>\n<text text-anchor=\"middle\" x=\"64\" y=\"-283.3\" font-family=\"Helvetica,sans-Serif\" font-size=\"14.00\" fill=\"#000000\">gini = 0.0</text>\n<text text-anchor=\"middle\" x=\"64\" y=\"-268.3\" font-family=\"Helvetica,sans-Serif\" font-size=\"14.00\" fill=\"#000000\">samples = 37</text>\n<text text-anchor=\"middle\" x=\"64\" y=\"-253.3\" font-family=\"Helvetica,sans-Serif\" font-size=\"14.00\" fill=\"#000000\">value = [0, 37, 0]</text>\n<text text-anchor=\"middle\" x=\"64\" y=\"-238.3\" font-family=\"Helvetica,sans-Serif\" font-size=\"14.00\" fill=\"#000000\">class = versicolor</text>\n</g>\n<!-- 3&#45;&gt;4 -->\n<g id=\"edge4\" class=\"edge\">\n<title>3&#45;&gt;4</title>\n<path fill=\"none\" stroke=\"#000000\" d=\"M152.4338,-341.8796C138.9872,-330.1138 124.3653,-317.3197 110.9549,-305.5855\"/>\n<polygon fill=\"#000000\" stroke=\"#000000\" points=\"113.0476,-302.766 103.2171,-298.8149 108.4381,-308.034 113.0476,-302.766\"/>\n</g>\n<!-- 5 -->\n<g id=\"node6\" class=\"node\">\n<title>5</title>\n<polygon fill=\"#8139e5\" stroke=\"#000000\" points=\"265.5,-298.5 146.5,-298.5 146.5,-230.5 265.5,-230.5 265.5,-298.5\"/>\n<text text-anchor=\"middle\" x=\"206\" y=\"-283.3\" font-family=\"Helvetica,sans-Serif\" font-size=\"14.00\" fill=\"#000000\">gini = 0.0</text>\n<text text-anchor=\"middle\" x=\"206\" y=\"-268.3\" font-family=\"Helvetica,sans-Serif\" font-size=\"14.00\" fill=\"#000000\">samples = 1</text>\n<text text-anchor=\"middle\" x=\"206\" y=\"-253.3\" font-family=\"Helvetica,sans-Serif\" font-size=\"14.00\" fill=\"#000000\">value = [0, 0, 1]</text>\n<text text-anchor=\"middle\" x=\"206\" y=\"-238.3\" font-family=\"Helvetica,sans-Serif\" font-size=\"14.00\" fill=\"#000000\">class = virginica</text>\n</g>\n<!-- 3&#45;&gt;5 -->\n<g id=\"edge5\" class=\"edge\">\n<title>3&#45;&gt;5</title>\n<path fill=\"none\" stroke=\"#000000\" d=\"M202.0985,-341.8796C202.6363,-331.2134 203.2167,-319.7021 203.7613,-308.9015\"/>\n<polygon fill=\"#000000\" stroke=\"#000000\" points=\"207.2617,-308.9785 204.2698,-298.8149 200.2706,-308.626 207.2617,-308.9785\"/>\n</g>\n<!-- 7 -->\n<g id=\"node8\" class=\"node\">\n<title>7</title>\n<polygon fill=\"#ffffff\" stroke=\"#000000\" points=\"475,-306 295,-306 295,-223 475,-223 475,-306\"/>\n<text text-anchor=\"middle\" x=\"385\" y=\"-290.8\" font-family=\"Helvetica,sans-Serif\" font-size=\"14.00\" fill=\"#000000\">sepal length (cm) &lt;= 5.45</text>\n<text text-anchor=\"middle\" x=\"385\" y=\"-275.8\" font-family=\"Helvetica,sans-Serif\" font-size=\"14.00\" fill=\"#000000\">gini = 0.5</text>\n<text text-anchor=\"middle\" x=\"385\" y=\"-260.8\" font-family=\"Helvetica,sans-Serif\" font-size=\"14.00\" fill=\"#000000\">samples = 4</text>\n<text text-anchor=\"middle\" x=\"385\" y=\"-245.8\" font-family=\"Helvetica,sans-Serif\" font-size=\"14.00\" fill=\"#000000\">value = [0, 2, 2]</text>\n<text text-anchor=\"middle\" x=\"385\" y=\"-230.8\" font-family=\"Helvetica,sans-Serif\" font-size=\"14.00\" fill=\"#000000\">class = versicolor</text>\n</g>\n<!-- 6&#45;&gt;7 -->\n<g id=\"edge7\" class=\"edge\">\n<title>6&#45;&gt;7</title>\n<path fill=\"none\" stroke=\"#000000\" d=\"M388.9015,-341.8796C388.4883,-333.6838 388.0499,-324.9891 387.6219,-316.5013\"/>\n<polygon fill=\"#000000\" stroke=\"#000000\" points=\"391.1067,-316.1091 387.1075,-306.2981 384.1156,-316.4617 391.1067,-316.1091\"/>\n</g>\n<!-- 12 -->\n<g id=\"node13\" class=\"node\">\n<title>12</title>\n<polygon fill=\"#843ee6\" stroke=\"#000000\" points=\"669,-306 493,-306 493,-223 669,-223 669,-306\"/>\n<text text-anchor=\"middle\" x=\"581\" y=\"-290.8\" font-family=\"Helvetica,sans-Serif\" font-size=\"14.00\" fill=\"#000000\">petal length (cm) &lt;= 4.85</text>\n<text text-anchor=\"middle\" x=\"581\" y=\"-275.8\" font-family=\"Helvetica,sans-Serif\" font-size=\"14.00\" fill=\"#000000\">gini = 0.053</text>\n<text text-anchor=\"middle\" x=\"581\" y=\"-260.8\" font-family=\"Helvetica,sans-Serif\" font-size=\"14.00\" fill=\"#000000\">samples = 37</text>\n<text text-anchor=\"middle\" x=\"581\" y=\"-245.8\" font-family=\"Helvetica,sans-Serif\" font-size=\"14.00\" fill=\"#000000\">value = [0, 1, 36]</text>\n<text text-anchor=\"middle\" x=\"581\" y=\"-230.8\" font-family=\"Helvetica,sans-Serif\" font-size=\"14.00\" fill=\"#000000\">class = virginica</text>\n</g>\n<!-- 6&#45;&gt;12 -->\n<g id=\"edge12\" class=\"edge\">\n<title>6&#45;&gt;12</title>\n<path fill=\"none\" stroke=\"#000000\" d=\"M457.4528,-341.8796C473.0733,-332.0962 489.829,-321.6019 505.8029,-311.5971\"/>\n<polygon fill=\"#000000\" stroke=\"#000000\" points=\"507.9676,-314.3712 514.5847,-306.0969 504.2519,-308.4387 507.9676,-314.3712\"/>\n</g>\n<!-- 8 -->\n<g id=\"node9\" class=\"node\">\n<title>8</title>\n<polygon fill=\"#8139e5\" stroke=\"#000000\" points=\"278.5,-179.5 159.5,-179.5 159.5,-111.5 278.5,-111.5 278.5,-179.5\"/>\n<text text-anchor=\"middle\" x=\"219\" y=\"-164.3\" font-family=\"Helvetica,sans-Serif\" font-size=\"14.00\" fill=\"#000000\">gini = 0.0</text>\n<text text-anchor=\"middle\" x=\"219\" y=\"-149.3\" font-family=\"Helvetica,sans-Serif\" font-size=\"14.00\" fill=\"#000000\">samples = 1</text>\n<text text-anchor=\"middle\" x=\"219\" y=\"-134.3\" font-family=\"Helvetica,sans-Serif\" font-size=\"14.00\" fill=\"#000000\">value = [0, 0, 1]</text>\n<text text-anchor=\"middle\" x=\"219\" y=\"-119.3\" font-family=\"Helvetica,sans-Serif\" font-size=\"14.00\" fill=\"#000000\">class = virginica</text>\n</g>\n<!-- 7&#45;&gt;8 -->\n<g id=\"edge8\" class=\"edge\">\n<title>7&#45;&gt;8</title>\n<path fill=\"none\" stroke=\"#000000\" d=\"M326.9413,-222.8796C310.142,-210.8368 291.8401,-197.7167 275.159,-185.7586\"/>\n<polygon fill=\"#000000\" stroke=\"#000000\" points=\"276.7668,-182.6047 266.6002,-179.623 272.6884,-188.2939 276.7668,-182.6047\"/>\n</g>\n<!-- 9 -->\n<g id=\"node10\" class=\"node\">\n<title>9</title>\n<polygon fill=\"#9cf2c0\" stroke=\"#000000\" points=\"473,-187 297,-187 297,-104 473,-104 473,-187\"/>\n<text text-anchor=\"middle\" x=\"385\" y=\"-171.8\" font-family=\"Helvetica,sans-Serif\" font-size=\"14.00\" fill=\"#000000\">petal length (cm) &lt;= 5.45</text>\n<text text-anchor=\"middle\" x=\"385\" y=\"-156.8\" font-family=\"Helvetica,sans-Serif\" font-size=\"14.00\" fill=\"#000000\">gini = 0.444</text>\n<text text-anchor=\"middle\" x=\"385\" y=\"-141.8\" font-family=\"Helvetica,sans-Serif\" font-size=\"14.00\" fill=\"#000000\">samples = 3</text>\n<text text-anchor=\"middle\" x=\"385\" y=\"-126.8\" font-family=\"Helvetica,sans-Serif\" font-size=\"14.00\" fill=\"#000000\">value = [0, 2, 1]</text>\n<text text-anchor=\"middle\" x=\"385\" y=\"-111.8\" font-family=\"Helvetica,sans-Serif\" font-size=\"14.00\" fill=\"#000000\">class = versicolor</text>\n</g>\n<!-- 7&#45;&gt;9 -->\n<g id=\"edge9\" class=\"edge\">\n<title>7&#45;&gt;9</title>\n<path fill=\"none\" stroke=\"#000000\" d=\"M385,-222.8796C385,-214.6838 385,-205.9891 385,-197.5013\"/>\n<polygon fill=\"#000000\" stroke=\"#000000\" points=\"388.5001,-197.298 385,-187.2981 381.5001,-197.2981 388.5001,-197.298\"/>\n</g>\n<!-- 10 -->\n<g id=\"node11\" class=\"node\">\n<title>10</title>\n<polygon fill=\"#39e581\" stroke=\"#000000\" points=\"320,-68 192,-68 192,0 320,0 320,-68\"/>\n<text text-anchor=\"middle\" x=\"256\" y=\"-52.8\" font-family=\"Helvetica,sans-Serif\" font-size=\"14.00\" fill=\"#000000\">gini = 0.0</text>\n<text text-anchor=\"middle\" x=\"256\" y=\"-37.8\" font-family=\"Helvetica,sans-Serif\" font-size=\"14.00\" fill=\"#000000\">samples = 2</text>\n<text text-anchor=\"middle\" x=\"256\" y=\"-22.8\" font-family=\"Helvetica,sans-Serif\" font-size=\"14.00\" fill=\"#000000\">value = [0, 2, 0]</text>\n<text text-anchor=\"middle\" x=\"256\" y=\"-7.8\" font-family=\"Helvetica,sans-Serif\" font-size=\"14.00\" fill=\"#000000\">class = versicolor</text>\n</g>\n<!-- 9&#45;&gt;10 -->\n<g id=\"edge10\" class=\"edge\">\n<title>9&#45;&gt;10</title>\n<path fill=\"none\" stroke=\"#000000\" d=\"M336.9652,-103.9815C326.013,-94.5151 314.3821,-84.462 303.4544,-75.0168\"/>\n<polygon fill=\"#000000\" stroke=\"#000000\" points=\"305.4957,-72.155 295.6414,-68.2637 300.9182,-77.4509 305.4957,-72.155\"/>\n</g>\n<!-- 11 -->\n<g id=\"node12\" class=\"node\">\n<title>11</title>\n<polygon fill=\"#8139e5\" stroke=\"#000000\" points=\"457.5,-68 338.5,-68 338.5,0 457.5,0 457.5,-68\"/>\n<text text-anchor=\"middle\" x=\"398\" y=\"-52.8\" font-family=\"Helvetica,sans-Serif\" font-size=\"14.00\" fill=\"#000000\">gini = 0.0</text>\n<text text-anchor=\"middle\" x=\"398\" y=\"-37.8\" font-family=\"Helvetica,sans-Serif\" font-size=\"14.00\" fill=\"#000000\">samples = 1</text>\n<text text-anchor=\"middle\" x=\"398\" y=\"-22.8\" font-family=\"Helvetica,sans-Serif\" font-size=\"14.00\" fill=\"#000000\">value = [0, 0, 1]</text>\n<text text-anchor=\"middle\" x=\"398\" y=\"-7.8\" font-family=\"Helvetica,sans-Serif\" font-size=\"14.00\" fill=\"#000000\">class = virginica</text>\n</g>\n<!-- 9&#45;&gt;11 -->\n<g id=\"edge11\" class=\"edge\">\n<title>9&#45;&gt;11</title>\n<path fill=\"none\" stroke=\"#000000\" d=\"M389.8407,-103.9815C390.8158,-95.618 391.8443,-86.7965 392.8302,-78.3409\"/>\n<polygon fill=\"#000000\" stroke=\"#000000\" points=\"396.3234,-78.6017 394.0051,-68.2637 389.3705,-77.791 396.3234,-78.6017\"/>\n</g>\n<!-- 13 -->\n<g id=\"node14\" class=\"node\">\n<title>13</title>\n<polygon fill=\"#c09cf2\" stroke=\"#000000\" points=\"671,-187 491,-187 491,-104 671,-104 671,-187\"/>\n<text text-anchor=\"middle\" x=\"581\" y=\"-171.8\" font-family=\"Helvetica,sans-Serif\" font-size=\"14.00\" fill=\"#000000\">sepal length (cm) &lt;= 5.95</text>\n<text text-anchor=\"middle\" x=\"581\" y=\"-156.8\" font-family=\"Helvetica,sans-Serif\" font-size=\"14.00\" fill=\"#000000\">gini = 0.444</text>\n<text text-anchor=\"middle\" x=\"581\" y=\"-141.8\" font-family=\"Helvetica,sans-Serif\" font-size=\"14.00\" fill=\"#000000\">samples = 3</text>\n<text text-anchor=\"middle\" x=\"581\" y=\"-126.8\" font-family=\"Helvetica,sans-Serif\" font-size=\"14.00\" fill=\"#000000\">value = [0, 1, 2]</text>\n<text text-anchor=\"middle\" x=\"581\" y=\"-111.8\" font-family=\"Helvetica,sans-Serif\" font-size=\"14.00\" fill=\"#000000\">class = virginica</text>\n</g>\n<!-- 12&#45;&gt;13 -->\n<g id=\"edge13\" class=\"edge\">\n<title>12&#45;&gt;13</title>\n<path fill=\"none\" stroke=\"#000000\" d=\"M581,-222.8796C581,-214.6838 581,-205.9891 581,-197.5013\"/>\n<polygon fill=\"#000000\" stroke=\"#000000\" points=\"584.5001,-197.298 581,-187.2981 577.5001,-197.2981 584.5001,-197.298\"/>\n</g>\n<!-- 16 -->\n<g id=\"node17\" class=\"node\">\n<title>16</title>\n<polygon fill=\"#8139e5\" stroke=\"#000000\" points=\"812.5,-179.5 689.5,-179.5 689.5,-111.5 812.5,-111.5 812.5,-179.5\"/>\n<text text-anchor=\"middle\" x=\"751\" y=\"-164.3\" font-family=\"Helvetica,sans-Serif\" font-size=\"14.00\" fill=\"#000000\">gini = 0.0</text>\n<text text-anchor=\"middle\" x=\"751\" y=\"-149.3\" font-family=\"Helvetica,sans-Serif\" font-size=\"14.00\" fill=\"#000000\">samples = 34</text>\n<text text-anchor=\"middle\" x=\"751\" y=\"-134.3\" font-family=\"Helvetica,sans-Serif\" font-size=\"14.00\" fill=\"#000000\">value = [0, 0, 34]</text>\n<text text-anchor=\"middle\" x=\"751\" y=\"-119.3\" font-family=\"Helvetica,sans-Serif\" font-size=\"14.00\" fill=\"#000000\">class = virginica</text>\n</g>\n<!-- 12&#45;&gt;16 -->\n<g id=\"edge16\" class=\"edge\">\n<title>12&#45;&gt;16</title>\n<path fill=\"none\" stroke=\"#000000\" d=\"M640.4578,-222.8796C657.8196,-210.7263 676.7488,-197.4759 693.9575,-185.4297\"/>\n<polygon fill=\"#000000\" stroke=\"#000000\" points=\"696.0676,-188.225 702.2528,-179.623 692.0533,-182.4904 696.0676,-188.225\"/>\n</g>\n<!-- 14 -->\n<g id=\"node15\" class=\"node\">\n<title>14</title>\n<polygon fill=\"#39e581\" stroke=\"#000000\" points=\"631,-68 503,-68 503,0 631,0 631,-68\"/>\n<text text-anchor=\"middle\" x=\"567\" y=\"-52.8\" font-family=\"Helvetica,sans-Serif\" font-size=\"14.00\" fill=\"#000000\">gini = 0.0</text>\n<text text-anchor=\"middle\" x=\"567\" y=\"-37.8\" font-family=\"Helvetica,sans-Serif\" font-size=\"14.00\" fill=\"#000000\">samples = 1</text>\n<text text-anchor=\"middle\" x=\"567\" y=\"-22.8\" font-family=\"Helvetica,sans-Serif\" font-size=\"14.00\" fill=\"#000000\">value = [0, 1, 0]</text>\n<text text-anchor=\"middle\" x=\"567\" y=\"-7.8\" font-family=\"Helvetica,sans-Serif\" font-size=\"14.00\" fill=\"#000000\">class = versicolor</text>\n</g>\n<!-- 13&#45;&gt;14 -->\n<g id=\"edge14\" class=\"edge\">\n<title>13&#45;&gt;14</title>\n<path fill=\"none\" stroke=\"#000000\" d=\"M575.7869,-103.9815C574.7368,-95.618 573.6292,-86.7965 572.5675,-78.3409\"/>\n<polygon fill=\"#000000\" stroke=\"#000000\" points=\"576.0208,-77.7497 571.3022,-68.2637 569.0753,-78.6218 576.0208,-77.7497\"/>\n</g>\n<!-- 15 -->\n<g id=\"node16\" class=\"node\">\n<title>15</title>\n<polygon fill=\"#8139e5\" stroke=\"#000000\" points=\"768.5,-68 649.5,-68 649.5,0 768.5,0 768.5,-68\"/>\n<text text-anchor=\"middle\" x=\"709\" y=\"-52.8\" font-family=\"Helvetica,sans-Serif\" font-size=\"14.00\" fill=\"#000000\">gini = 0.0</text>\n<text text-anchor=\"middle\" x=\"709\" y=\"-37.8\" font-family=\"Helvetica,sans-Serif\" font-size=\"14.00\" fill=\"#000000\">samples = 2</text>\n<text text-anchor=\"middle\" x=\"709\" y=\"-22.8\" font-family=\"Helvetica,sans-Serif\" font-size=\"14.00\" fill=\"#000000\">value = [0, 0, 2]</text>\n<text text-anchor=\"middle\" x=\"709\" y=\"-7.8\" font-family=\"Helvetica,sans-Serif\" font-size=\"14.00\" fill=\"#000000\">class = virginica</text>\n</g>\n<!-- 13&#45;&gt;15 -->\n<g id=\"edge15\" class=\"edge\">\n<title>13&#45;&gt;15</title>\n<path fill=\"none\" stroke=\"#000000\" d=\"M628.6625,-103.9815C639.5297,-94.5151 651.0705,-84.462 661.9135,-75.0168\"/>\n<polygon fill=\"#000000\" stroke=\"#000000\" points=\"664.4245,-77.4712 669.6659,-68.2637 659.8266,-72.1929 664.4245,-77.4712\"/>\n</g>\n</g>\n</svg>\n"
          },
          "metadata": {},
          "execution_count": 5
        }
      ]
    },
    {
      "cell_type": "markdown",
      "source": [
        "결정 트리는 몇 개의 피처가 규칙 트리에 크게 영향\n",
        "- `feature_importances_` 속성으로 피처 중요도 제공"
      ],
      "metadata": {
        "id": "V8oZcV7R6gnX"
      }
    },
    {
      "cell_type": "code",
      "source": [
        "import seaborn as sns\n",
        "import numpy as np\n",
        "%matplotlib inline\n",
        "\n",
        "## feature importance\n",
        "\n",
        "for name, value in zip(iris_data.feature_names, dt_clf.feature_importances_):\n",
        "    print(name, value)\n",
        "\n",
        "sns.barplot(x=dt_clf.feature_importances_, y =iris_data.feature_names)"
      ],
      "metadata": {
        "colab": {
          "base_uri": "https://localhost:8080/",
          "height": 352
        },
        "id": "TJVBAIdx5I73",
        "outputId": "3ddc4d54-cf56-4b0a-f158-2649afa96884"
      },
      "execution_count": 6,
      "outputs": [
        {
          "output_type": "stream",
          "name": "stdout",
          "text": [
            "sepal length (cm) 0.02500520941862888\n",
            "sepal width (cm) 0.0\n",
            "petal length (cm) 0.5549028149313102\n",
            "petal width (cm) 0.42009197565006084\n"
          ]
        },
        {
          "output_type": "execute_result",
          "data": {
            "text/plain": [
              "<matplotlib.axes._subplots.AxesSubplot at 0x7fe48d643810>"
            ]
          },
          "metadata": {},
          "execution_count": 6
        },
        {
          "output_type": "display_data",
          "data": {
            "text/plain": [
              "<Figure size 432x288 with 1 Axes>"
            ],
            "image/png": "[encoded data removed]"
          },
          "metadata": {
            "needs_background": "light"
          }
        }
      ]
    },
    {
      "cell_type": "markdown",
      "source": [
        "### 결정 트리 과적합\u001f\n",
        "\n",
        "[scatter 컨닝페이퍼](https://wikidocs.net/92110)"
      ],
      "metadata": {
        "id": "Msck1CdW7OWJ"
      }
    },
    {
      "cell_type": "code",
      "source": [
        "from sklearn.datasets import make_classification\n",
        "import matplotlib.pyplot as plt\n",
        "%matplotlib inline\n",
        "\n",
        "## 피처는 두개, 클래스는 세개\n",
        "x_features, y_labels = make_classification(n_features=2, n_redundant=0, n_informative=2, n_classes=3, n_clusters_per_class=1, random_state=0)\n",
        "\n",
        "plt.scatter(x=x_features[:,0], y=x_features[:,1], marker='o', c=y_labels, s=25)"
      ],
      "metadata": {
        "colab": {
          "base_uri": "https://localhost:8080/",
          "height": 286
        },
        "id": "lq2eDSVA7pPy",
        "outputId": "c819a167-5a2f-4b9e-a239-4553eabcdf91"
      },
      "execution_count": 7,
      "outputs": [
        {
          "output_type": "execute_result",
          "data": {
            "text/plain": [
              "<matplotlib.collections.PathCollection at 0x7fe48d0c16d0>"
            ]
          },
          "metadata": {},
          "execution_count": 7
        },
        {
          "output_type": "display_data",
          "data": {
            "text/plain": [
              "<Figure size 432x288 with 1 Axes>"
            ],
            "image/png": "[encoded data removed]"
          },
          "metadata": {
            "needs_background": "light"
          }
        }
      ]
    },
    {
      "cell_type": "code",
      "source": [
        "import numpy as np\n",
        "\n",
        "# Classifier의 Decision Boundary를 시각화 하는 함수\n",
        "def visualize_boundary(model, X, y):\n",
        "    fig,ax = plt.subplots()\n",
        "    \n",
        "    # 학습 데이타 scatter plot으로 나타내기\n",
        "    ax.scatter(X[:, 0], X[:, 1], c=y, s=25, cmap='rainbow', edgecolor='k',\n",
        "               clim=(y.min(), y.max()), zorder=3)\n",
        "    ax.axis('tight')\n",
        "    ax.axis('off')\n",
        "    xlim_start , xlim_end = ax.get_xlim()\n",
        "    ylim_start , ylim_end = ax.get_ylim()\n",
        "    \n",
        "    # 호출 파라미터로 들어온 training 데이타로 model 학습 . \n",
        "    model.fit(X, y)\n",
        "    # meshgrid 형태인 모든 좌표값으로 예측 수행. \n",
        "    xx, yy = np.meshgrid(np.linspace(xlim_start,xlim_end, num=200),np.linspace(ylim_start,ylim_end, num=200))\n",
        "    Z = model.predict(np.c_[xx.ravel(), yy.ravel()]).reshape(xx.shape)\n",
        "    \n",
        "    # contourf() 를 이용하여 class boundary 를 visualization 수행. \n",
        "    n_classes = len(np.unique(y))\n",
        "    contours = ax.contourf(xx, yy, Z, alpha=0.3,\n",
        "                           levels=np.arange(n_classes + 1) - 0.5,\n",
        "                           cmap='rainbow', clim=(y.min(), y.max()),\n",
        "                           zorder=1)"
      ],
      "metadata": {
        "id": "nplTAJeb9qwk"
      },
      "execution_count": 8,
      "outputs": []
    },
    {
      "cell_type": "code",
      "source": [
        "from sklearn.tree import DecisionTreeClassifier\n",
        "\n",
        "dt_clf = DecisionTreeClassifier().fit(x_features, y_labels)\n",
        "visualize_boundary(dt_clf, x_features, y_labels)"
      ],
      "metadata": {
        "colab": {
          "base_uri": "https://localhost:8080/",
          "height": 285
        },
        "id": "iYpF9_rB9HAg",
        "outputId": "9bfd8171-e687-42d3-cfbf-1cb4dfa261e5"
      },
      "execution_count": 9,
      "outputs": [
        {
          "output_type": "stream",
          "name": "stderr",
          "text": [
            "/usr/local/lib/python3.7/dist-packages/ipykernel_launcher.py:26: UserWarning: The following kwargs were not used by contour: 'clim'\n"
          ]
        },
        {
          "output_type": "display_data",
          "data": {
            "text/plain": [
              "<Figure size 432x288 with 1 Axes>"
            ],
            "image/png": "[encoded data removed]"
          },
          "metadata": {
            "needs_background": "light"
          }
        }
      ]
    },
    {
      "cell_type": "markdown",
      "source": [
        "이상치까지 분류해서 경계가 많아짐"
      ],
      "metadata": {
        "id": "u4foDhjj9yrv"
      }
    },
    {
      "cell_type": "code",
      "source": [
        "from sklearn.tree import DecisionTreeClassifier\n",
        "\n",
        "dt_clf = DecisionTreeClassifier(min_samples_leaf=6).fit(x_features, y_labels)\n",
        "visualize_boundary(dt_clf, x_features, y_labels)"
      ],
      "metadata": {
        "colab": {
          "base_uri": "https://localhost:8080/",
          "height": 285
        },
        "id": "qabHuWXK9_Tl",
        "outputId": "1d1c96d7-dfe7-4023-8b83-62f6fac6d40d"
      },
      "execution_count": 10,
      "outputs": [
        {
          "output_type": "stream",
          "name": "stderr",
          "text": [
            "/usr/local/lib/python3.7/dist-packages/ipykernel_launcher.py:26: UserWarning: The following kwargs were not used by contour: 'clim'\n"
          ]
        },
        {
          "output_type": "display_data",
          "data": {
            "text/plain": [
              "<Figure size 432x288 with 1 Axes>"
            ],
            "image/png": "[encoded data removed]"
          },
          "metadata": {
            "needs_background": "light"
          }
        }
      ]
    },
    {
      "cell_type": "markdown",
      "source": [
        "### 결정 트리 실습 - 사용자 행동 인식 데이터 세트"
      ],
      "metadata": {
        "id": "ntFK7X0m-TEb"
      }
    },
    {
      "cell_type": "markdown",
      "source": [
        "#### 데이터 가져오기"
      ],
      "metadata": {
        "id": "JSXvSKvfMmFv"
      }
    },
    {
      "cell_type": "code",
      "source": [
        "import pandas as pd\n",
        "import matplotlib.pyplot as plt\n",
        "%matplotlib inline\n",
        "\n",
        "## 하나 이상의 공백\n",
        "feature_name_df = pd.read_csv('/content/drive/MyDrive/UCI HAR Dataset/features.txt', sep='\\s+', header=None, names=['column_index', 'column_name'])\n",
        "\n",
        "print(feature_name_df.head())\n",
        "\n",
        "feature_name = feature_name_df.iloc[:, 1].values.tolist()\n",
        "print(feature_name[:10])"
      ],
      "metadata": {
        "colab": {
          "base_uri": "https://localhost:8080/"
        },
        "id": "StEJoNpE_qqw",
        "outputId": "c77719f4-048a-4185-bb37-632c3f657b32"
      },
      "execution_count": 13,
      "outputs": [
        {
          "output_type": "stream",
          "name": "stdout",
          "text": [
            "   column_index        column_name\n",
            "0             1  tBodyAcc-mean()-X\n",
            "1             2  tBodyAcc-mean()-Y\n",
            "2             3  tBodyAcc-mean()-Z\n",
            "3             4   tBodyAcc-std()-X\n",
            "4             5   tBodyAcc-std()-Y\n",
            "['tBodyAcc-mean()-X', 'tBodyAcc-mean()-Y', 'tBodyAcc-mean()-Z', 'tBodyAcc-std()-X', 'tBodyAcc-std()-Y', 'tBodyAcc-std()-Z', 'tBodyAcc-mad()-X', 'tBodyAcc-mad()-Y', 'tBodyAcc-mad()-Z', 'tBodyAcc-max()-X']\n"
          ]
        }
      ]
    },
    {
      "cell_type": "code",
      "source": [
        "## 중복 피쳐명 제거\n",
        "\n",
        "feature_dup_df = feature_name_df.groupby('column_name').count()\n",
        "print(feature_dup_df[feature_dup_df['column_index'] > 1].count())"
      ],
      "metadata": {
        "colab": {
          "base_uri": "https://localhost:8080/"
        },
        "id": "UQqWalyMFvig",
        "outputId": "2e58cdc7-0e60-479c-f6b1-956fba993ee4"
      },
      "execution_count": 18,
      "outputs": [
        {
          "output_type": "stream",
          "name": "stdout",
          "text": [
            "column_index    42\n",
            "dtype: int64\n"
          ]
        }
      ]
    },
    {
      "cell_type": "code",
      "source": [
        "# 중복된 feature 이름 변경\n",
        "def get_new_feature_name_df(old_feature_name_df):\n",
        "    feature_dup_df = pd.DataFrame(data=old_feature_name_df.groupby('column_name').cumcount(), columns=['dup_cnt'])\n",
        "    \n",
        "    feature_dup_df = feature_dup_df.reset_index()\n",
        "    print(feature_dup_df)\n",
        "    new_feature_name_df = pd.merge(old_feature_name_df.reset_index(), feature_dup_df, how='outer')\n",
        "    new_feature_name_df['column_name'] = new_feature_name_df[['column_name', 'dup_cnt']].apply(lambda x : x[0]+'_'+str(x[1]) \n",
        "                                                                                           if x[1] >0 else x[0] ,  axis=1)\n",
        "    new_feature_name_df = new_feature_name_df.drop(['index'], axis=1)\n",
        "    return new_feature_name_df\n"
      ],
      "metadata": {
        "id": "RrZu0fZ2Hz0d"
      },
      "execution_count": null,
      "outputs": []
    },
    {
      "cell_type": "code",
      "source": [
        "import pandas as pd\n",
        "\n",
        "def get_human_dataset():\n",
        "\n",
        "    # 공백으로 구분\n",
        "    feature_name_df = pd.read_csv('/content/drive/MyDrive/UCI HAR Dataset/features.txt', sep='\\s+', header=None, names=['column_index', 'column_name'])\n",
        "\n",
        "    # 중복된 피처명 수정\n",
        "    new_feature_name_df = get_new_feature_name_df(feature_name_df)\n",
        "\n",
        "    # Dataframe한테 피처명 칼럼으로 주기 위해서 리스트로 변경\n",
        "    feature_name = new_feature_name_df.iloc[:,1].values.tolist()\n",
        "\n",
        "    # 피처 데이터 세트링 라벨 데이터 세트\n",
        "    x_train = pd.read_csv('/content/drive/MyDrive/UCI HAR Dataset/train/X_train.txt',sep='\\s+', names=feature_name )\n",
        "    x_test = pd.read_csv('/content/drive/MyDrive/UCI HAR Dataset/test/X_test.txt',sep='\\s+', names=feature_name)\n",
        "    \n",
        "    y_train = pd.read_csv('/content/drive/MyDrive/UCI HAR Dataset/train/y_train.txt',sep='\\s+',header=None,names=['action'])\n",
        "    y_test = pd.read_csv('/content/drive/MyDrive/UCI HAR Dataset/test/y_test.txt',sep='\\s+',header=None,names=['action'])\n",
        "    \n",
        "    # 반환\n",
        "    return x_train, x_test, y_train, y_test\n",
        "\n",
        "\n",
        "x_train, x_test, y_train, y_test = get_human_dataset()"
      ],
      "metadata": {
        "colab": {
          "base_uri": "https://localhost:8080/"
        },
        "id": "Yv0VxlIRH4uD",
        "outputId": "975541bf-e074-4cd0-c5a8-cb9a4cb898c8"
      },
      "execution_count": 27,
      "outputs": [
        {
          "output_type": "stream",
          "name": "stdout",
          "text": [
            "     index  dup_cnt\n",
            "0        0        0\n",
            "1        1        0\n",
            "2        2        0\n",
            "3        3        0\n",
            "4        4        0\n",
            "..     ...      ...\n",
            "556    556        0\n",
            "557    557        0\n",
            "558    558        0\n",
            "559    559        0\n",
            "560    560        0\n",
            "\n",
            "[561 rows x 2 columns]\n",
            "     index  column_index                           column_name  dup_cnt\n",
            "0        0             1                     tBodyAcc-mean()-X        0\n",
            "1        1             2                     tBodyAcc-mean()-Y        0\n",
            "2        2             3                     tBodyAcc-mean()-Z        0\n",
            "3        3             4                      tBodyAcc-std()-X        0\n",
            "4        4             5                      tBodyAcc-std()-Y        0\n",
            "..     ...           ...                                   ...      ...\n",
            "556    556           557      angle(tBodyGyroMean,gravityMean)        0\n",
            "557    557           558  angle(tBodyGyroJerkMean,gravityMean)        0\n",
            "558    558           559                  angle(X,gravityMean)        0\n",
            "559    559           560                  angle(Y,gravityMean)        0\n",
            "560    560           561                  angle(Z,gravityMean)        0\n",
            "\n",
            "[561 rows x 4 columns]\n"
          ]
        }
      ]
    },
    {
      "cell_type": "markdown",
      "source": [
        "#### 데이터 관찰"
      ],
      "metadata": {
        "id": "2n6KzTWzMoUV"
      }
    },
    {
      "cell_type": "code",
      "source": [
        "x_train.info()"
      ],
      "metadata": {
        "colab": {
          "base_uri": "https://localhost:8080/"
        },
        "id": "IHQ19gH_MZ9S",
        "outputId": "62f5712e-3f32-4878-aa4e-eb791dee5513"
      },
      "execution_count": 28,
      "outputs": [
        {
          "output_type": "stream",
          "name": "stdout",
          "text": [
            "<class 'pandas.core.frame.DataFrame'>\n",
            "RangeIndex: 7352 entries, 0 to 7351\n",
            "Columns: 561 entries, tBodyAcc-mean()-X to angle(Z,gravityMean)\n",
            "dtypes: float64(561)\n",
            "memory usage: 31.5 MB\n"
          ]
        }
      ]
    },
    {
      "cell_type": "code",
      "source": [
        "y_train['action'].value_counts()"
      ],
      "metadata": {
        "colab": {
          "base_uri": "https://localhost:8080/"
        },
        "id": "L9ZNsBgEMqkU",
        "outputId": "6aa83f31-d9b6-4371-ac10-cc86599cc6cd"
      },
      "execution_count": 32,
      "outputs": [
        {
          "output_type": "execute_result",
          "data": {
            "text/plain": [
              "6    1407\n",
              "5    1374\n",
              "4    1286\n",
              "1    1226\n",
              "2    1073\n",
              "3     986\n",
              "Name: action, dtype: int64"
            ]
          },
          "metadata": {},
          "execution_count": 32
        }
      ]
    },
    {
      "cell_type": "markdown",
      "source": [
        "#### 분류"
      ],
      "metadata": {
        "id": "3gLsupt4MobO"
      }
    },
    {
      "cell_type": "code",
      "source": [
        "from sklearn.tree import DecisionTreeClassifier\n",
        "from sklearn.metrics import accuracy_score\n",
        "\n",
        "dt_clf = DecisionTreeClassifier(random_state=156)\n",
        "dt_clf.fit(x_train , y_train)\n",
        "pred = dt_clf.predict(x_test)\n",
        "accuracy = accuracy_score(y_test , pred)\n",
        "print('정확도: ', accuracy)\n",
        "\n",
        "# DecisionTreeClassifier의 하이퍼 파라미터 추출\n",
        "print('하이퍼 파라미터:\\n', dt_clf.get_params())"
      ],
      "metadata": {
        "colab": {
          "base_uri": "https://localhost:8080/"
        },
        "id": "6HHPlOrYM5G9",
        "outputId": "9212318f-d1c2-4016-82b8-8390ee8c88bf"
      },
      "execution_count": 35,
      "outputs": [
        {
          "output_type": "stream",
          "name": "stdout",
          "text": [
            "정확도:  0.8547675602307431\n",
            "하이퍼 파라미터:\n",
            " {'ccp_alpha': 0.0, 'class_weight': None, 'criterion': 'gini', 'max_depth': None, 'max_features': None, 'max_leaf_nodes': None, 'min_impurity_decrease': 0.0, 'min_samples_leaf': 1, 'min_samples_split': 2, 'min_weight_fraction_leaf': 0.0, 'random_state': 156, 'splitter': 'best'}\n"
          ]
        }
      ]
    },
    {
      "cell_type": "markdown",
      "source": [
        "#### 트리 깊이가 예측 정확도에 주는 영향"
      ],
      "metadata": {
        "id": "Buftiu99Njk_"
      }
    },
    {
      "cell_type": "code",
      "source": [
        "from sklearn.model_selection import GridSearchCV\n",
        "\n",
        "params = {\n",
        "    'max_depth' : [6,8,10,12,16,20,24]\n",
        "}\n",
        "\n",
        "\n",
        "grid_cv = GridSearchCV(dt_clf, param_grid=params, scoring='accuracy', cv=5, verbose=1 )\n",
        "grid_cv.fit(x_train , y_train)\n",
        "print('최고 평균 정확도 수치:',grid_cv.best_score_)\n",
        "print('최적 하이퍼 파라미터:', grid_cv.best_params_)"
      ],
      "metadata": {
        "colab": {
          "base_uri": "https://localhost:8080/"
        },
        "id": "Zd9p3H3kNoTc",
        "outputId": "1201d2d5-c036-4c90-b81b-f0ab595fb1d0"
      },
      "execution_count": 37,
      "outputs": [
        {
          "output_type": "stream",
          "name": "stdout",
          "text": [
            "Fitting 5 folds for each of 7 candidates, totalling 35 fits\n",
            "최고 평균 정확도 수치: 0.8513444970102249\n",
            "최적 하이퍼 파라미터: {'max_depth': 16}\n"
          ]
        }
      ]
    },
    {
      "cell_type": "code",
      "source": [
        "print(grid_cv.cv_results_['param_max_depth'])\n",
        "print(grid_cv.cv_results_['mean_test_score'])"
      ],
      "metadata": {
        "colab": {
          "base_uri": "https://localhost:8080/"
        },
        "id": "M0-Ln-GgOWbB",
        "outputId": "9990006a-fc8b-4c6b-b0b7-06fa685801b3"
      },
      "execution_count": 40,
      "outputs": [
        {
          "output_type": "stream",
          "name": "stdout",
          "text": [
            "[6 8 10 12 16 20 24]\n",
            "[0.85079094 0.85106934 0.851209   0.844135   0.8513445  0.85079982\n",
            " 0.8494402 ]\n"
          ]
        }
      ]
    },
    {
      "cell_type": "markdown",
      "source": [
        "#### max_depth + min_samples_split"
      ],
      "metadata": {
        "id": "rV7zn9TtPUXl"
      }
    },
    {
      "cell_type": "code",
      "source": [
        "params = {\n",
        "    'max_depth' : [ 8 , 12, 16 ,20], \n",
        "    'min_samples_split' : [16,24],\n",
        "}\n",
        "\n",
        "grid_cv = GridSearchCV(dt_clf, param_grid=params, scoring='accuracy', cv=5, verbose=1 )\n",
        "grid_cv.fit(x_train , y_train)\n",
        "print('최고 평균 정확도 수치: {0:.4f}'.format(grid_cv.best_score_))\n",
        "print('최적 하이퍼 파라미터:', grid_cv.best_params_)"
      ],
      "metadata": {
        "colab": {
          "base_uri": "https://localhost:8080/"
        },
        "id": "-rO0y1iGPSny",
        "outputId": "0f3529b3-baab-49d9-98ce-b772df2e8df3"
      },
      "execution_count": 42,
      "outputs": [
        {
          "output_type": "stream",
          "name": "stdout",
          "text": [
            "Fitting 5 folds for each of 8 candidates, totalling 40 fits\n",
            "최고 평균 정확도 수치: 0.8549\n",
            "최적 하이퍼 파라미터: {'max_depth': 8, 'min_samples_split': 16}\n"
          ]
        }
      ]
    },
    {
      "cell_type": "code",
      "source": [
        "best_df_clf = grid_cv.best_estimator_\n",
        "\n",
        "pred1 = best_df_clf.predict(x_test)\n",
        "accuracy = accuracy_score(y_test , pred1)\n",
        "print('결정 트리 예측 정확도:{0:.4f}'.format(accuracy))"
      ],
      "metadata": {
        "colab": {
          "base_uri": "https://localhost:8080/"
        },
        "id": "gLv_yezVPna7",
        "outputId": "df059c80-801c-4b75-eff1-328e7f9d3d47"
      },
      "execution_count": 44,
      "outputs": [
        {
          "output_type": "stream",
          "name": "stdout",
          "text": [
            "결정 트리 예측 정확도:0.8717\n"
          ]
        }
      ]
    },
    {
      "cell_type": "code",
      "source": [
        "import seaborn as sns\n",
        "\n",
        "ftr_importances_values = best_df_clf.feature_importances_\n",
        "\n",
        "# Top 중요도로 정렬을 쉽게 하고, 시본(Seaborn)의 막대그래프로 쉽게 표현하기 위해 Series변환\n",
        "ftr_importances = pd.Series(ftr_importances_values, index=x_train.columns  )\n",
        "\n",
        "# 중요도값 순으로 Series를 정렬\n",
        "ftr_top20 = ftr_importances.sort_values(ascending=False)[:20]\n",
        "plt.figure(figsize=(8,6))\n",
        "plt.title('Feature importances Top 20')\n",
        "sns.barplot(x=ftr_top20 , y = ftr_top20.index)\n",
        "plt.show()"
      ],
      "metadata": {
        "colab": {
          "base_uri": "https://localhost:8080/",
          "height": 390
        },
        "id": "SIP-5Sq5PogA",
        "outputId": "bb49cb22-bd16-462a-b9d4-afcb32c6f540"
      },
      "execution_count": 45,
      "outputs": [
        {
          "output_type": "display_data",
          "data": {
            "text/plain": [
              "<Figure size 576x432 with 1 Axes>"
            ],
            "image/png": "[encoded data removed]"
          },
          "metadata": {
            "needs_background": "light"
          }
        }
      ]
    }
  ]
}